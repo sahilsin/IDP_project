{
  "nbformat": 4,
  "nbformat_minor": 0,
  "metadata": {
    "colab": {
      "name": "IDP_project.ipynb",
      "provenance": [],
      "collapsed_sections": [],
      "toc_visible": true
    },
    "kernelspec": {
      "name": "python3",
      "display_name": "Python 3"
    },
    "language_info": {
      "name": "python"
    }
  },
  "cells": [
    {
      "cell_type": "markdown",
      "metadata": {
        "id": "RwE8oUnIfRlO"
      },
      "source": [
        "#IDP PROJECT\n",
        "# Sahil Kumar Singh\n",
        "#ES17BTECH11019 "
      ]
    },
    {
      "cell_type": "markdown",
      "metadata": {
        "id": "pO2jxe2B3xDS"
      },
      "source": [
        "**Initially mounting the google drive**"
      ]
    },
    {
      "cell_type": "code",
      "metadata": {
        "colab": {
          "base_uri": "https://localhost:8080/"
        },
        "id": "GyiyXQJmScsI",
        "outputId": "8233de2c-4870-4bc3-eded-e147f32d5622"
      },
      "source": [
        "from google.colab import drive\n",
        "drive.mount('/content/gdrive')"
      ],
      "execution_count": null,
      "outputs": [
        {
          "output_type": "stream",
          "text": [
            "Mounted at /content/gdrive\n"
          ],
          "name": "stdout"
        }
      ]
    },
    {
      "cell_type": "markdown",
      "metadata": {
        "id": "EGdgo3wI32s1"
      },
      "source": [
        "**Using Pandas library to load the CSV file and many more useful functions**"
      ]
    },
    {
      "cell_type": "code",
      "metadata": {
        "id": "x7jPv8ayWrhm"
      },
      "source": [
        "import pandas as pd"
      ],
      "execution_count": null,
      "outputs": []
    },
    {
      "cell_type": "code",
      "metadata": {
        "id": "qvO9H_-HAecG"
      },
      "source": [
        "path = '/content/gdrive/MyDrive/sensorreadings (25).csv'\n",
        "ssr = pd.read_csv(path)\n"
      ],
      "execution_count": null,
      "outputs": []
    },
    {
      "cell_type": "markdown",
      "metadata": {
        "id": "Ph8S2nxC7PFP"
      },
      "source": [
        "**This is the data present in the CSV file**"
      ]
    },
    {
      "cell_type": "code",
      "metadata": {
        "colab": {
          "base_uri": "https://localhost:8080/",
          "height": 419
        },
        "id": "mgr4pmwJNL-7",
        "outputId": "f7197703-b89b-46e8-80e8-7e007dbc27a5"
      },
      "source": [
        "ssr"
      ],
      "execution_count": null,
      "outputs": [
        {
          "output_type": "execute_result",
          "data": {
            "text/html": [
              "<div>\n",
              "<style scoped>\n",
              "    .dataframe tbody tr th:only-of-type {\n",
              "        vertical-align: middle;\n",
              "    }\n",
              "\n",
              "    .dataframe tbody tr th {\n",
              "        vertical-align: top;\n",
              "    }\n",
              "\n",
              "    .dataframe thead th {\n",
              "        text-align: right;\n",
              "    }\n",
              "</style>\n",
              "<table border=\"1\" class=\"dataframe\">\n",
              "  <thead>\n",
              "    <tr style=\"text-align: right;\">\n",
              "      <th></th>\n",
              "      <th>Time stamp</th>\n",
              "      <th>Meter ID</th>\n",
              "      <th>R phase</th>\n",
              "      <th>Y phase</th>\n",
              "      <th>B phase</th>\n",
              "      <th>Total pow</th>\n",
              "    </tr>\n",
              "  </thead>\n",
              "  <tbody>\n",
              "    <tr>\n",
              "      <th>0</th>\n",
              "      <td>15-03-2021 10:35</td>\n",
              "      <td>101</td>\n",
              "      <td>14.8639</td>\n",
              "      <td>16.6759</td>\n",
              "      <td>16.2646</td>\n",
              "      <td>47.8045</td>\n",
              "    </tr>\n",
              "    <tr>\n",
              "      <th>1</th>\n",
              "      <td>15-03-2021 10:36</td>\n",
              "      <td>101</td>\n",
              "      <td>14.8976</td>\n",
              "      <td>16.5786</td>\n",
              "      <td>16.3201</td>\n",
              "      <td>47.7964</td>\n",
              "    </tr>\n",
              "    <tr>\n",
              "      <th>2</th>\n",
              "      <td>15-03-2021 10:37</td>\n",
              "      <td>101</td>\n",
              "      <td>14.9082</td>\n",
              "      <td>16.5838</td>\n",
              "      <td>16.3254</td>\n",
              "      <td>47.8175</td>\n",
              "    </tr>\n",
              "    <tr>\n",
              "      <th>3</th>\n",
              "      <td>15-03-2021 10:38</td>\n",
              "      <td>101</td>\n",
              "      <td>14.9214</td>\n",
              "      <td>16.6692</td>\n",
              "      <td>16.2829</td>\n",
              "      <td>47.8737</td>\n",
              "    </tr>\n",
              "    <tr>\n",
              "      <th>4</th>\n",
              "      <td>15-03-2021 10:39</td>\n",
              "      <td>101</td>\n",
              "      <td>14.8908</td>\n",
              "      <td>16.7536</td>\n",
              "      <td>16.2214</td>\n",
              "      <td>47.8659</td>\n",
              "    </tr>\n",
              "    <tr>\n",
              "      <th>...</th>\n",
              "      <td>...</td>\n",
              "      <td>...</td>\n",
              "      <td>...</td>\n",
              "      <td>...</td>\n",
              "      <td>...</td>\n",
              "      <td>...</td>\n",
              "    </tr>\n",
              "    <tr>\n",
              "      <th>1048570</th>\n",
              "      <td>31-01-2021 16:50</td>\n",
              "      <td>3</td>\n",
              "      <td>3.4071</td>\n",
              "      <td>3.4252</td>\n",
              "      <td>6.8513</td>\n",
              "      <td>13.6837</td>\n",
              "    </tr>\n",
              "    <tr>\n",
              "      <th>1048571</th>\n",
              "      <td>31-01-2021 16:51</td>\n",
              "      <td>3</td>\n",
              "      <td>3.4205</td>\n",
              "      <td>3.4414</td>\n",
              "      <td>6.8253</td>\n",
              "      <td>13.6874</td>\n",
              "    </tr>\n",
              "    <tr>\n",
              "      <th>1048572</th>\n",
              "      <td>31-01-2021 16:52</td>\n",
              "      <td>3</td>\n",
              "      <td>3.3864</td>\n",
              "      <td>3.4255</td>\n",
              "      <td>6.8174</td>\n",
              "      <td>13.6294</td>\n",
              "    </tr>\n",
              "    <tr>\n",
              "      <th>1048573</th>\n",
              "      <td>31-01-2021 16:53</td>\n",
              "      <td>3</td>\n",
              "      <td>3.5006</td>\n",
              "      <td>3.4191</td>\n",
              "      <td>6.8469</td>\n",
              "      <td>13.7667</td>\n",
              "    </tr>\n",
              "    <tr>\n",
              "      <th>1048574</th>\n",
              "      <td>31-01-2021 16:54</td>\n",
              "      <td>3</td>\n",
              "      <td>3.4859</td>\n",
              "      <td>3.3904</td>\n",
              "      <td>6.8511</td>\n",
              "      <td>13.7275</td>\n",
              "    </tr>\n",
              "  </tbody>\n",
              "</table>\n",
              "<p>1048575 rows × 6 columns</p>\n",
              "</div>"
            ],
            "text/plain": [
              "               Time stamp  Meter ID  R phase  Y phase  B phase  Total pow\n",
              "0        15-03-2021 10:35       101  14.8639  16.6759  16.2646    47.8045\n",
              "1        15-03-2021 10:36       101  14.8976  16.5786  16.3201    47.7964\n",
              "2        15-03-2021 10:37       101  14.9082  16.5838  16.3254    47.8175\n",
              "3        15-03-2021 10:38       101  14.9214  16.6692  16.2829    47.8737\n",
              "4        15-03-2021 10:39       101  14.8908  16.7536  16.2214    47.8659\n",
              "...                   ...       ...      ...      ...      ...        ...\n",
              "1048570  31-01-2021 16:50         3   3.4071   3.4252   6.8513    13.6837\n",
              "1048571  31-01-2021 16:51         3   3.4205   3.4414   6.8253    13.6874\n",
              "1048572  31-01-2021 16:52         3   3.3864   3.4255   6.8174    13.6294\n",
              "1048573  31-01-2021 16:53         3   3.5006   3.4191   6.8469    13.7667\n",
              "1048574  31-01-2021 16:54         3   3.4859   3.3904   6.8511    13.7275\n",
              "\n",
              "[1048575 rows x 6 columns]"
            ]
          },
          "metadata": {
            "tags": []
          },
          "execution_count": 16
        }
      ]
    },
    {
      "cell_type": "markdown",
      "metadata": {
        "id": "tVvvODwR4I4X"
      },
      "source": [
        "**Filtering the data and considering four different meters data and analyzed the data**\n"
      ]
    },
    {
      "cell_type": "code",
      "metadata": {
        "id": "NsZN_SsaBjOk"
      },
      "source": [
        "ssr_meterid_101=ssr[ssr['Meter ID'] == 101]"
      ],
      "execution_count": null,
      "outputs": []
    },
    {
      "cell_type": "code",
      "metadata": {
        "id": "zMtdGNSOcYLJ"
      },
      "source": [
        "ssr_meterid_102=ssr[ssr['Meter ID'] == 102]"
      ],
      "execution_count": null,
      "outputs": []
    },
    {
      "cell_type": "code",
      "metadata": {
        "id": "Xz4vAtyGdLgs"
      },
      "source": [
        "ssr_meterid_11=ssr[ssr['Meter ID'] == 11]"
      ],
      "execution_count": null,
      "outputs": []
    },
    {
      "cell_type": "code",
      "metadata": {
        "id": "I70bOlaydTeT"
      },
      "source": [
        "ssr_meterid_2=ssr[ssr['Meter ID'] == 2]"
      ],
      "execution_count": null,
      "outputs": []
    },
    {
      "cell_type": "markdown",
      "metadata": {
        "id": "Qlnkze3A7cIZ"
      },
      "source": [
        "**Meter 101 data**"
      ]
    },
    {
      "cell_type": "code",
      "metadata": {
        "id": "LhBqIl1XEHH6",
        "colab": {
          "base_uri": "https://localhost:8080/",
          "height": 419
        },
        "outputId": "ca9cd0bc-56de-4916-fd61-39744fc034bd"
      },
      "source": [
        "ssr_meterid_101"
      ],
      "execution_count": null,
      "outputs": [
        {
          "output_type": "execute_result",
          "data": {
            "text/html": [
              "<div>\n",
              "<style scoped>\n",
              "    .dataframe tbody tr th:only-of-type {\n",
              "        vertical-align: middle;\n",
              "    }\n",
              "\n",
              "    .dataframe tbody tr th {\n",
              "        vertical-align: top;\n",
              "    }\n",
              "\n",
              "    .dataframe thead th {\n",
              "        text-align: right;\n",
              "    }\n",
              "</style>\n",
              "<table border=\"1\" class=\"dataframe\">\n",
              "  <thead>\n",
              "    <tr style=\"text-align: right;\">\n",
              "      <th></th>\n",
              "      <th>Time stamp</th>\n",
              "      <th>Meter ID</th>\n",
              "      <th>R phase</th>\n",
              "      <th>Y phase</th>\n",
              "      <th>B phase</th>\n",
              "      <th>Total pow</th>\n",
              "    </tr>\n",
              "  </thead>\n",
              "  <tbody>\n",
              "    <tr>\n",
              "      <th>0</th>\n",
              "      <td>15-03-2021 10:35</td>\n",
              "      <td>101</td>\n",
              "      <td>14.8639</td>\n",
              "      <td>16.6759</td>\n",
              "      <td>16.2646</td>\n",
              "      <td>47.8045</td>\n",
              "    </tr>\n",
              "    <tr>\n",
              "      <th>1</th>\n",
              "      <td>15-03-2021 10:36</td>\n",
              "      <td>101</td>\n",
              "      <td>14.8976</td>\n",
              "      <td>16.5786</td>\n",
              "      <td>16.3201</td>\n",
              "      <td>47.7964</td>\n",
              "    </tr>\n",
              "    <tr>\n",
              "      <th>2</th>\n",
              "      <td>15-03-2021 10:37</td>\n",
              "      <td>101</td>\n",
              "      <td>14.9082</td>\n",
              "      <td>16.5838</td>\n",
              "      <td>16.3254</td>\n",
              "      <td>47.8175</td>\n",
              "    </tr>\n",
              "    <tr>\n",
              "      <th>3</th>\n",
              "      <td>15-03-2021 10:38</td>\n",
              "      <td>101</td>\n",
              "      <td>14.9214</td>\n",
              "      <td>16.6692</td>\n",
              "      <td>16.2829</td>\n",
              "      <td>47.8737</td>\n",
              "    </tr>\n",
              "    <tr>\n",
              "      <th>4</th>\n",
              "      <td>15-03-2021 10:39</td>\n",
              "      <td>101</td>\n",
              "      <td>14.8908</td>\n",
              "      <td>16.7536</td>\n",
              "      <td>16.2214</td>\n",
              "      <td>47.8659</td>\n",
              "    </tr>\n",
              "    <tr>\n",
              "      <th>...</th>\n",
              "      <td>...</td>\n",
              "      <td>...</td>\n",
              "      <td>...</td>\n",
              "      <td>...</td>\n",
              "      <td>...</td>\n",
              "      <td>...</td>\n",
              "    </tr>\n",
              "    <tr>\n",
              "      <th>123917</th>\n",
              "      <td>29-01-2021 14:01</td>\n",
              "      <td>101</td>\n",
              "      <td>13.3863</td>\n",
              "      <td>14.5399</td>\n",
              "      <td>14.6906</td>\n",
              "      <td>42.6169</td>\n",
              "    </tr>\n",
              "    <tr>\n",
              "      <th>123918</th>\n",
              "      <td>29-01-2021 14:03</td>\n",
              "      <td>101</td>\n",
              "      <td>13.2620</td>\n",
              "      <td>14.4711</td>\n",
              "      <td>14.7015</td>\n",
              "      <td>42.4347</td>\n",
              "    </tr>\n",
              "    <tr>\n",
              "      <th>123919</th>\n",
              "      <td>29-01-2021 14:04</td>\n",
              "      <td>101</td>\n",
              "      <td>13.2584</td>\n",
              "      <td>14.4984</td>\n",
              "      <td>14.6369</td>\n",
              "      <td>42.3938</td>\n",
              "    </tr>\n",
              "    <tr>\n",
              "      <th>123920</th>\n",
              "      <td>29-01-2021 14:05</td>\n",
              "      <td>101</td>\n",
              "      <td>13.2532</td>\n",
              "      <td>14.5372</td>\n",
              "      <td>14.6250</td>\n",
              "      <td>42.4155</td>\n",
              "    </tr>\n",
              "    <tr>\n",
              "      <th>123921</th>\n",
              "      <td>29-01-2021 14:06</td>\n",
              "      <td>101</td>\n",
              "      <td>13.2446</td>\n",
              "      <td>14.4525</td>\n",
              "      <td>14.7102</td>\n",
              "      <td>42.4074</td>\n",
              "    </tr>\n",
              "  </tbody>\n",
              "</table>\n",
              "<p>123922 rows × 6 columns</p>\n",
              "</div>"
            ],
            "text/plain": [
              "              Time stamp  Meter ID  R phase  Y phase  B phase  Total pow\n",
              "0       15-03-2021 10:35       101  14.8639  16.6759  16.2646    47.8045\n",
              "1       15-03-2021 10:36       101  14.8976  16.5786  16.3201    47.7964\n",
              "2       15-03-2021 10:37       101  14.9082  16.5838  16.3254    47.8175\n",
              "3       15-03-2021 10:38       101  14.9214  16.6692  16.2829    47.8737\n",
              "4       15-03-2021 10:39       101  14.8908  16.7536  16.2214    47.8659\n",
              "...                  ...       ...      ...      ...      ...        ...\n",
              "123917  29-01-2021 14:01       101  13.3863  14.5399  14.6906    42.6169\n",
              "123918  29-01-2021 14:03       101  13.2620  14.4711  14.7015    42.4347\n",
              "123919  29-01-2021 14:04       101  13.2584  14.4984  14.6369    42.3938\n",
              "123920  29-01-2021 14:05       101  13.2532  14.5372  14.6250    42.4155\n",
              "123921  29-01-2021 14:06       101  13.2446  14.4525  14.7102    42.4074\n",
              "\n",
              "[123922 rows x 6 columns]"
            ]
          },
          "metadata": {
            "tags": []
          },
          "execution_count": 18
        }
      ]
    },
    {
      "cell_type": "markdown",
      "metadata": {
        "id": "K0jnnIg04Rsr"
      },
      "source": [
        "**Deleting the time stamp column as it is behaving as a string which cannot be passed through the KMeans function**"
      ]
    },
    {
      "cell_type": "code",
      "metadata": {
        "colab": {
          "base_uri": "https://localhost:8080/",
          "height": 419
        },
        "id": "y5EdMfgyANog",
        "outputId": "75f39e98-c20e-43ac-a004-1e2f1c1543ef"
      },
      "source": [
        "del ssr[ssr.columns[0]]\n",
        "ssr\n"
      ],
      "execution_count": null,
      "outputs": [
        {
          "output_type": "execute_result",
          "data": {
            "text/html": [
              "<div>\n",
              "<style scoped>\n",
              "    .dataframe tbody tr th:only-of-type {\n",
              "        vertical-align: middle;\n",
              "    }\n",
              "\n",
              "    .dataframe tbody tr th {\n",
              "        vertical-align: top;\n",
              "    }\n",
              "\n",
              "    .dataframe thead th {\n",
              "        text-align: right;\n",
              "    }\n",
              "</style>\n",
              "<table border=\"1\" class=\"dataframe\">\n",
              "  <thead>\n",
              "    <tr style=\"text-align: right;\">\n",
              "      <th></th>\n",
              "      <th>Meter ID</th>\n",
              "      <th>R phase</th>\n",
              "      <th>Y phase</th>\n",
              "      <th>B phase</th>\n",
              "      <th>Total pow</th>\n",
              "    </tr>\n",
              "  </thead>\n",
              "  <tbody>\n",
              "    <tr>\n",
              "      <th>0</th>\n",
              "      <td>101</td>\n",
              "      <td>14.8639</td>\n",
              "      <td>16.6759</td>\n",
              "      <td>16.2646</td>\n",
              "      <td>47.8045</td>\n",
              "    </tr>\n",
              "    <tr>\n",
              "      <th>1</th>\n",
              "      <td>101</td>\n",
              "      <td>14.8976</td>\n",
              "      <td>16.5786</td>\n",
              "      <td>16.3201</td>\n",
              "      <td>47.7964</td>\n",
              "    </tr>\n",
              "    <tr>\n",
              "      <th>2</th>\n",
              "      <td>101</td>\n",
              "      <td>14.9082</td>\n",
              "      <td>16.5838</td>\n",
              "      <td>16.3254</td>\n",
              "      <td>47.8175</td>\n",
              "    </tr>\n",
              "    <tr>\n",
              "      <th>3</th>\n",
              "      <td>101</td>\n",
              "      <td>14.9214</td>\n",
              "      <td>16.6692</td>\n",
              "      <td>16.2829</td>\n",
              "      <td>47.8737</td>\n",
              "    </tr>\n",
              "    <tr>\n",
              "      <th>4</th>\n",
              "      <td>101</td>\n",
              "      <td>14.8908</td>\n",
              "      <td>16.7536</td>\n",
              "      <td>16.2214</td>\n",
              "      <td>47.8659</td>\n",
              "    </tr>\n",
              "    <tr>\n",
              "      <th>...</th>\n",
              "      <td>...</td>\n",
              "      <td>...</td>\n",
              "      <td>...</td>\n",
              "      <td>...</td>\n",
              "      <td>...</td>\n",
              "    </tr>\n",
              "    <tr>\n",
              "      <th>1048570</th>\n",
              "      <td>3</td>\n",
              "      <td>3.4071</td>\n",
              "      <td>3.4252</td>\n",
              "      <td>6.8513</td>\n",
              "      <td>13.6837</td>\n",
              "    </tr>\n",
              "    <tr>\n",
              "      <th>1048571</th>\n",
              "      <td>3</td>\n",
              "      <td>3.4205</td>\n",
              "      <td>3.4414</td>\n",
              "      <td>6.8253</td>\n",
              "      <td>13.6874</td>\n",
              "    </tr>\n",
              "    <tr>\n",
              "      <th>1048572</th>\n",
              "      <td>3</td>\n",
              "      <td>3.3864</td>\n",
              "      <td>3.4255</td>\n",
              "      <td>6.8174</td>\n",
              "      <td>13.6294</td>\n",
              "    </tr>\n",
              "    <tr>\n",
              "      <th>1048573</th>\n",
              "      <td>3</td>\n",
              "      <td>3.5006</td>\n",
              "      <td>3.4191</td>\n",
              "      <td>6.8469</td>\n",
              "      <td>13.7667</td>\n",
              "    </tr>\n",
              "    <tr>\n",
              "      <th>1048574</th>\n",
              "      <td>3</td>\n",
              "      <td>3.4859</td>\n",
              "      <td>3.3904</td>\n",
              "      <td>6.8511</td>\n",
              "      <td>13.7275</td>\n",
              "    </tr>\n",
              "  </tbody>\n",
              "</table>\n",
              "<p>1048575 rows × 5 columns</p>\n",
              "</div>"
            ],
            "text/plain": [
              "         Meter ID  R phase  Y phase  B phase  Total pow\n",
              "0             101  14.8639  16.6759  16.2646    47.8045\n",
              "1             101  14.8976  16.5786  16.3201    47.7964\n",
              "2             101  14.9082  16.5838  16.3254    47.8175\n",
              "3             101  14.9214  16.6692  16.2829    47.8737\n",
              "4             101  14.8908  16.7536  16.2214    47.8659\n",
              "...           ...      ...      ...      ...        ...\n",
              "1048570         3   3.4071   3.4252   6.8513    13.6837\n",
              "1048571         3   3.4205   3.4414   6.8253    13.6874\n",
              "1048572         3   3.3864   3.4255   6.8174    13.6294\n",
              "1048573         3   3.5006   3.4191   6.8469    13.7667\n",
              "1048574         3   3.4859   3.3904   6.8511    13.7275\n",
              "\n",
              "[1048575 rows x 5 columns]"
            ]
          },
          "metadata": {
            "tags": []
          },
          "execution_count": 19
        }
      ]
    },
    {
      "cell_type": "markdown",
      "metadata": {
        "id": "5XLsRddAdbCU"
      },
      "source": [
        "***Deleting other columns and we will only analyze and consider \"Total Power Consumption\"***"
      ]
    },
    {
      "cell_type": "code",
      "metadata": {
        "colab": {
          "base_uri": "https://localhost:8080/",
          "height": 419
        },
        "id": "qMR9JkIjg5oy",
        "outputId": "00df1a9e-66a4-4a42-b8ac-c437b8c52e2a"
      },
      "source": [
        "del ssr_meterid_101[ssr_meterid_101.columns[0]]\n",
        "ssr_meterid_101\n"
      ],
      "execution_count": null,
      "outputs": [
        {
          "output_type": "execute_result",
          "data": {
            "text/html": [
              "<div>\n",
              "<style scoped>\n",
              "    .dataframe tbody tr th:only-of-type {\n",
              "        vertical-align: middle;\n",
              "    }\n",
              "\n",
              "    .dataframe tbody tr th {\n",
              "        vertical-align: top;\n",
              "    }\n",
              "\n",
              "    .dataframe thead th {\n",
              "        text-align: right;\n",
              "    }\n",
              "</style>\n",
              "<table border=\"1\" class=\"dataframe\">\n",
              "  <thead>\n",
              "    <tr style=\"text-align: right;\">\n",
              "      <th></th>\n",
              "      <th>Meter ID</th>\n",
              "      <th>R phase</th>\n",
              "      <th>Y phase</th>\n",
              "      <th>B phase</th>\n",
              "      <th>Total pow</th>\n",
              "    </tr>\n",
              "  </thead>\n",
              "  <tbody>\n",
              "    <tr>\n",
              "      <th>0</th>\n",
              "      <td>101</td>\n",
              "      <td>14.8639</td>\n",
              "      <td>16.6759</td>\n",
              "      <td>16.2646</td>\n",
              "      <td>47.8045</td>\n",
              "    </tr>\n",
              "    <tr>\n",
              "      <th>1</th>\n",
              "      <td>101</td>\n",
              "      <td>14.8976</td>\n",
              "      <td>16.5786</td>\n",
              "      <td>16.3201</td>\n",
              "      <td>47.7964</td>\n",
              "    </tr>\n",
              "    <tr>\n",
              "      <th>2</th>\n",
              "      <td>101</td>\n",
              "      <td>14.9082</td>\n",
              "      <td>16.5838</td>\n",
              "      <td>16.3254</td>\n",
              "      <td>47.8175</td>\n",
              "    </tr>\n",
              "    <tr>\n",
              "      <th>3</th>\n",
              "      <td>101</td>\n",
              "      <td>14.9214</td>\n",
              "      <td>16.6692</td>\n",
              "      <td>16.2829</td>\n",
              "      <td>47.8737</td>\n",
              "    </tr>\n",
              "    <tr>\n",
              "      <th>4</th>\n",
              "      <td>101</td>\n",
              "      <td>14.8908</td>\n",
              "      <td>16.7536</td>\n",
              "      <td>16.2214</td>\n",
              "      <td>47.8659</td>\n",
              "    </tr>\n",
              "    <tr>\n",
              "      <th>...</th>\n",
              "      <td>...</td>\n",
              "      <td>...</td>\n",
              "      <td>...</td>\n",
              "      <td>...</td>\n",
              "      <td>...</td>\n",
              "    </tr>\n",
              "    <tr>\n",
              "      <th>123917</th>\n",
              "      <td>101</td>\n",
              "      <td>13.3863</td>\n",
              "      <td>14.5399</td>\n",
              "      <td>14.6906</td>\n",
              "      <td>42.6169</td>\n",
              "    </tr>\n",
              "    <tr>\n",
              "      <th>123918</th>\n",
              "      <td>101</td>\n",
              "      <td>13.2620</td>\n",
              "      <td>14.4711</td>\n",
              "      <td>14.7015</td>\n",
              "      <td>42.4347</td>\n",
              "    </tr>\n",
              "    <tr>\n",
              "      <th>123919</th>\n",
              "      <td>101</td>\n",
              "      <td>13.2584</td>\n",
              "      <td>14.4984</td>\n",
              "      <td>14.6369</td>\n",
              "      <td>42.3938</td>\n",
              "    </tr>\n",
              "    <tr>\n",
              "      <th>123920</th>\n",
              "      <td>101</td>\n",
              "      <td>13.2532</td>\n",
              "      <td>14.5372</td>\n",
              "      <td>14.6250</td>\n",
              "      <td>42.4155</td>\n",
              "    </tr>\n",
              "    <tr>\n",
              "      <th>123921</th>\n",
              "      <td>101</td>\n",
              "      <td>13.2446</td>\n",
              "      <td>14.4525</td>\n",
              "      <td>14.7102</td>\n",
              "      <td>42.4074</td>\n",
              "    </tr>\n",
              "  </tbody>\n",
              "</table>\n",
              "<p>123922 rows × 5 columns</p>\n",
              "</div>"
            ],
            "text/plain": [
              "        Meter ID  R phase  Y phase  B phase  Total pow\n",
              "0            101  14.8639  16.6759  16.2646    47.8045\n",
              "1            101  14.8976  16.5786  16.3201    47.7964\n",
              "2            101  14.9082  16.5838  16.3254    47.8175\n",
              "3            101  14.9214  16.6692  16.2829    47.8737\n",
              "4            101  14.8908  16.7536  16.2214    47.8659\n",
              "...          ...      ...      ...      ...        ...\n",
              "123917       101  13.3863  14.5399  14.6906    42.6169\n",
              "123918       101  13.2620  14.4711  14.7015    42.4347\n",
              "123919       101  13.2584  14.4984  14.6369    42.3938\n",
              "123920       101  13.2532  14.5372  14.6250    42.4155\n",
              "123921       101  13.2446  14.4525  14.7102    42.4074\n",
              "\n",
              "[123922 rows x 5 columns]"
            ]
          },
          "metadata": {
            "tags": []
          },
          "execution_count": 20
        }
      ]
    },
    {
      "cell_type": "code",
      "metadata": {
        "colab": {
          "base_uri": "https://localhost:8080/",
          "height": 419
        },
        "id": "Su9RggZwVsop",
        "outputId": "da96c8ae-ac9f-4bc1-8e30-045edad858bc"
      },
      "source": [
        "del ssr_meterid_101[ssr_meterid_101.columns[1]]\n",
        "ssr_meterid_101\n"
      ],
      "execution_count": null,
      "outputs": [
        {
          "output_type": "execute_result",
          "data": {
            "text/html": [
              "<div>\n",
              "<style scoped>\n",
              "    .dataframe tbody tr th:only-of-type {\n",
              "        vertical-align: middle;\n",
              "    }\n",
              "\n",
              "    .dataframe tbody tr th {\n",
              "        vertical-align: top;\n",
              "    }\n",
              "\n",
              "    .dataframe thead th {\n",
              "        text-align: right;\n",
              "    }\n",
              "</style>\n",
              "<table border=\"1\" class=\"dataframe\">\n",
              "  <thead>\n",
              "    <tr style=\"text-align: right;\">\n",
              "      <th></th>\n",
              "      <th>Meter ID</th>\n",
              "      <th>Y phase</th>\n",
              "      <th>B phase</th>\n",
              "      <th>Total pow</th>\n",
              "    </tr>\n",
              "  </thead>\n",
              "  <tbody>\n",
              "    <tr>\n",
              "      <th>0</th>\n",
              "      <td>101</td>\n",
              "      <td>16.6759</td>\n",
              "      <td>16.2646</td>\n",
              "      <td>47.8045</td>\n",
              "    </tr>\n",
              "    <tr>\n",
              "      <th>1</th>\n",
              "      <td>101</td>\n",
              "      <td>16.5786</td>\n",
              "      <td>16.3201</td>\n",
              "      <td>47.7964</td>\n",
              "    </tr>\n",
              "    <tr>\n",
              "      <th>2</th>\n",
              "      <td>101</td>\n",
              "      <td>16.5838</td>\n",
              "      <td>16.3254</td>\n",
              "      <td>47.8175</td>\n",
              "    </tr>\n",
              "    <tr>\n",
              "      <th>3</th>\n",
              "      <td>101</td>\n",
              "      <td>16.6692</td>\n",
              "      <td>16.2829</td>\n",
              "      <td>47.8737</td>\n",
              "    </tr>\n",
              "    <tr>\n",
              "      <th>4</th>\n",
              "      <td>101</td>\n",
              "      <td>16.7536</td>\n",
              "      <td>16.2214</td>\n",
              "      <td>47.8659</td>\n",
              "    </tr>\n",
              "    <tr>\n",
              "      <th>...</th>\n",
              "      <td>...</td>\n",
              "      <td>...</td>\n",
              "      <td>...</td>\n",
              "      <td>...</td>\n",
              "    </tr>\n",
              "    <tr>\n",
              "      <th>123917</th>\n",
              "      <td>101</td>\n",
              "      <td>14.5399</td>\n",
              "      <td>14.6906</td>\n",
              "      <td>42.6169</td>\n",
              "    </tr>\n",
              "    <tr>\n",
              "      <th>123918</th>\n",
              "      <td>101</td>\n",
              "      <td>14.4711</td>\n",
              "      <td>14.7015</td>\n",
              "      <td>42.4347</td>\n",
              "    </tr>\n",
              "    <tr>\n",
              "      <th>123919</th>\n",
              "      <td>101</td>\n",
              "      <td>14.4984</td>\n",
              "      <td>14.6369</td>\n",
              "      <td>42.3938</td>\n",
              "    </tr>\n",
              "    <tr>\n",
              "      <th>123920</th>\n",
              "      <td>101</td>\n",
              "      <td>14.5372</td>\n",
              "      <td>14.6250</td>\n",
              "      <td>42.4155</td>\n",
              "    </tr>\n",
              "    <tr>\n",
              "      <th>123921</th>\n",
              "      <td>101</td>\n",
              "      <td>14.4525</td>\n",
              "      <td>14.7102</td>\n",
              "      <td>42.4074</td>\n",
              "    </tr>\n",
              "  </tbody>\n",
              "</table>\n",
              "<p>123922 rows × 4 columns</p>\n",
              "</div>"
            ],
            "text/plain": [
              "        Meter ID  Y phase  B phase  Total pow\n",
              "0            101  16.6759  16.2646    47.8045\n",
              "1            101  16.5786  16.3201    47.7964\n",
              "2            101  16.5838  16.3254    47.8175\n",
              "3            101  16.6692  16.2829    47.8737\n",
              "4            101  16.7536  16.2214    47.8659\n",
              "...          ...      ...      ...        ...\n",
              "123917       101  14.5399  14.6906    42.6169\n",
              "123918       101  14.4711  14.7015    42.4347\n",
              "123919       101  14.4984  14.6369    42.3938\n",
              "123920       101  14.5372  14.6250    42.4155\n",
              "123921       101  14.4525  14.7102    42.4074\n",
              "\n",
              "[123922 rows x 4 columns]"
            ]
          },
          "metadata": {
            "tags": []
          },
          "execution_count": 21
        }
      ]
    },
    {
      "cell_type": "code",
      "metadata": {
        "colab": {
          "base_uri": "https://localhost:8080/",
          "height": 419
        },
        "id": "tbPfJ-iWWxmU",
        "outputId": "d014d7ee-f72c-41e6-9eb7-1fad236cfd42"
      },
      "source": [
        "del ssr_meterid_101[ssr_meterid_101.columns[1]]\n",
        "ssr_meterid_101\n"
      ],
      "execution_count": null,
      "outputs": [
        {
          "output_type": "execute_result",
          "data": {
            "text/html": [
              "<div>\n",
              "<style scoped>\n",
              "    .dataframe tbody tr th:only-of-type {\n",
              "        vertical-align: middle;\n",
              "    }\n",
              "\n",
              "    .dataframe tbody tr th {\n",
              "        vertical-align: top;\n",
              "    }\n",
              "\n",
              "    .dataframe thead th {\n",
              "        text-align: right;\n",
              "    }\n",
              "</style>\n",
              "<table border=\"1\" class=\"dataframe\">\n",
              "  <thead>\n",
              "    <tr style=\"text-align: right;\">\n",
              "      <th></th>\n",
              "      <th>Meter ID</th>\n",
              "      <th>B phase</th>\n",
              "      <th>Total pow</th>\n",
              "    </tr>\n",
              "  </thead>\n",
              "  <tbody>\n",
              "    <tr>\n",
              "      <th>0</th>\n",
              "      <td>101</td>\n",
              "      <td>16.2646</td>\n",
              "      <td>47.8045</td>\n",
              "    </tr>\n",
              "    <tr>\n",
              "      <th>1</th>\n",
              "      <td>101</td>\n",
              "      <td>16.3201</td>\n",
              "      <td>47.7964</td>\n",
              "    </tr>\n",
              "    <tr>\n",
              "      <th>2</th>\n",
              "      <td>101</td>\n",
              "      <td>16.3254</td>\n",
              "      <td>47.8175</td>\n",
              "    </tr>\n",
              "    <tr>\n",
              "      <th>3</th>\n",
              "      <td>101</td>\n",
              "      <td>16.2829</td>\n",
              "      <td>47.8737</td>\n",
              "    </tr>\n",
              "    <tr>\n",
              "      <th>4</th>\n",
              "      <td>101</td>\n",
              "      <td>16.2214</td>\n",
              "      <td>47.8659</td>\n",
              "    </tr>\n",
              "    <tr>\n",
              "      <th>...</th>\n",
              "      <td>...</td>\n",
              "      <td>...</td>\n",
              "      <td>...</td>\n",
              "    </tr>\n",
              "    <tr>\n",
              "      <th>123917</th>\n",
              "      <td>101</td>\n",
              "      <td>14.6906</td>\n",
              "      <td>42.6169</td>\n",
              "    </tr>\n",
              "    <tr>\n",
              "      <th>123918</th>\n",
              "      <td>101</td>\n",
              "      <td>14.7015</td>\n",
              "      <td>42.4347</td>\n",
              "    </tr>\n",
              "    <tr>\n",
              "      <th>123919</th>\n",
              "      <td>101</td>\n",
              "      <td>14.6369</td>\n",
              "      <td>42.3938</td>\n",
              "    </tr>\n",
              "    <tr>\n",
              "      <th>123920</th>\n",
              "      <td>101</td>\n",
              "      <td>14.6250</td>\n",
              "      <td>42.4155</td>\n",
              "    </tr>\n",
              "    <tr>\n",
              "      <th>123921</th>\n",
              "      <td>101</td>\n",
              "      <td>14.7102</td>\n",
              "      <td>42.4074</td>\n",
              "    </tr>\n",
              "  </tbody>\n",
              "</table>\n",
              "<p>123922 rows × 3 columns</p>\n",
              "</div>"
            ],
            "text/plain": [
              "        Meter ID  B phase  Total pow\n",
              "0            101  16.2646    47.8045\n",
              "1            101  16.3201    47.7964\n",
              "2            101  16.3254    47.8175\n",
              "3            101  16.2829    47.8737\n",
              "4            101  16.2214    47.8659\n",
              "...          ...      ...        ...\n",
              "123917       101  14.6906    42.6169\n",
              "123918       101  14.7015    42.4347\n",
              "123919       101  14.6369    42.3938\n",
              "123920       101  14.6250    42.4155\n",
              "123921       101  14.7102    42.4074\n",
              "\n",
              "[123922 rows x 3 columns]"
            ]
          },
          "metadata": {
            "tags": []
          },
          "execution_count": 22
        }
      ]
    },
    {
      "cell_type": "code",
      "metadata": {
        "colab": {
          "base_uri": "https://localhost:8080/",
          "height": 419
        },
        "id": "kr85tLdiW1DT",
        "outputId": "a6e8557e-4b8f-46a9-d2ad-cbd44db10aca"
      },
      "source": [
        "del ssr_meterid_101[ssr_meterid_101.columns[1]]\n",
        "ssr_meterid_101\n"
      ],
      "execution_count": null,
      "outputs": [
        {
          "output_type": "execute_result",
          "data": {
            "text/html": [
              "<div>\n",
              "<style scoped>\n",
              "    .dataframe tbody tr th:only-of-type {\n",
              "        vertical-align: middle;\n",
              "    }\n",
              "\n",
              "    .dataframe tbody tr th {\n",
              "        vertical-align: top;\n",
              "    }\n",
              "\n",
              "    .dataframe thead th {\n",
              "        text-align: right;\n",
              "    }\n",
              "</style>\n",
              "<table border=\"1\" class=\"dataframe\">\n",
              "  <thead>\n",
              "    <tr style=\"text-align: right;\">\n",
              "      <th></th>\n",
              "      <th>Meter ID</th>\n",
              "      <th>Total pow</th>\n",
              "    </tr>\n",
              "  </thead>\n",
              "  <tbody>\n",
              "    <tr>\n",
              "      <th>0</th>\n",
              "      <td>101</td>\n",
              "      <td>47.8045</td>\n",
              "    </tr>\n",
              "    <tr>\n",
              "      <th>1</th>\n",
              "      <td>101</td>\n",
              "      <td>47.7964</td>\n",
              "    </tr>\n",
              "    <tr>\n",
              "      <th>2</th>\n",
              "      <td>101</td>\n",
              "      <td>47.8175</td>\n",
              "    </tr>\n",
              "    <tr>\n",
              "      <th>3</th>\n",
              "      <td>101</td>\n",
              "      <td>47.8737</td>\n",
              "    </tr>\n",
              "    <tr>\n",
              "      <th>4</th>\n",
              "      <td>101</td>\n",
              "      <td>47.8659</td>\n",
              "    </tr>\n",
              "    <tr>\n",
              "      <th>...</th>\n",
              "      <td>...</td>\n",
              "      <td>...</td>\n",
              "    </tr>\n",
              "    <tr>\n",
              "      <th>123917</th>\n",
              "      <td>101</td>\n",
              "      <td>42.6169</td>\n",
              "    </tr>\n",
              "    <tr>\n",
              "      <th>123918</th>\n",
              "      <td>101</td>\n",
              "      <td>42.4347</td>\n",
              "    </tr>\n",
              "    <tr>\n",
              "      <th>123919</th>\n",
              "      <td>101</td>\n",
              "      <td>42.3938</td>\n",
              "    </tr>\n",
              "    <tr>\n",
              "      <th>123920</th>\n",
              "      <td>101</td>\n",
              "      <td>42.4155</td>\n",
              "    </tr>\n",
              "    <tr>\n",
              "      <th>123921</th>\n",
              "      <td>101</td>\n",
              "      <td>42.4074</td>\n",
              "    </tr>\n",
              "  </tbody>\n",
              "</table>\n",
              "<p>123922 rows × 2 columns</p>\n",
              "</div>"
            ],
            "text/plain": [
              "        Meter ID  Total pow\n",
              "0            101    47.8045\n",
              "1            101    47.7964\n",
              "2            101    47.8175\n",
              "3            101    47.8737\n",
              "4            101    47.8659\n",
              "...          ...        ...\n",
              "123917       101    42.6169\n",
              "123918       101    42.4347\n",
              "123919       101    42.3938\n",
              "123920       101    42.4155\n",
              "123921       101    42.4074\n",
              "\n",
              "[123922 rows x 2 columns]"
            ]
          },
          "metadata": {
            "tags": []
          },
          "execution_count": 23
        }
      ]
    },
    {
      "cell_type": "markdown",
      "metadata": {
        "id": "vXD5FEWr7kLn"
      },
      "source": [
        "**Using the ELBOW method to find the number of optimal clusters so that we can use that in KMeans algorithm**"
      ]
    },
    {
      "cell_type": "code",
      "metadata": {
        "id": "tE6sT1_VAPFo"
      },
      "source": [
        ""
      ],
      "execution_count": null,
      "outputs": []
    },
    {
      "cell_type": "code",
      "metadata": {
        "id": "tX3bDG1XxAfJ"
      },
      "source": [
        "from sklearn.cluster import KMeans\n",
        "import matplotlib.pyplot as plt\n",
        "distortions = []\n",
        "K = range(1,10)\n",
        "for k in K:\n",
        "    kmeanModel = KMeans(n_clusters=k)\n",
        "    kmeanModel.fit(ssr_meterid_101)\n",
        "    distortions.append(kmeanModel.inertia_)"
      ],
      "execution_count": null,
      "outputs": []
    },
    {
      "cell_type": "markdown",
      "metadata": {
        "id": "V1W0oya070FU"
      },
      "source": [
        "**From the plot we can see that optimal cluster for our ssr_meterid_101 data is 3 as the curve is linear after n=3**"
      ]
    },
    {
      "cell_type": "code",
      "metadata": {
        "id": "pwpRwmryq_U7",
        "colab": {
          "base_uri": "https://localhost:8080/",
          "height": 513
        },
        "outputId": "95014565-70f5-49f5-c036-4aec3010868f"
      },
      "source": [
        "plt.figure(figsize=(16,8))\n",
        "plt.plot(K, distortions, 'bx-')\n",
        "plt.xlabel('k')\n",
        "plt.ylabel('Distortion')\n",
        "plt.title('The Elbow Method showing the optimal k')\n",
        "plt.show()"
      ],
      "execution_count": null,
      "outputs": [
        {
          "output_type": "display_data",
          "data": {
            "image/png": "[encoded data removed]",
            "text/plain": [
              "<Figure size 1152x576 with 1 Axes>"
            ]
          },
          "metadata": {
            "tags": [],
            "needs_background": "light"
          }
        }
      ]
    },
    {
      "cell_type": "markdown",
      "metadata": {
        "id": "Ob_ZANA64c5u"
      },
      "source": [
        "**Implementing the K- means Algorithm for n=3 clusters**\n",
        "\n",
        "\n",
        "\n"
      ]
    },
    {
      "cell_type": "code",
      "metadata": {
        "id": "yU455_TLQI3-",
        "colab": {
          "base_uri": "https://localhost:8080/",
          "height": 282
        },
        "outputId": "e5956676-c32d-42b1-8d20-7c0432421373"
      },
      "source": [
        "from sklearn.cluster import KMeans\n",
        "import matplotlib.pyplot as plt\n",
        "k_res=KMeans(n_clusters=3).fit(ssr_meterid_101)\n",
        "clusters=k_res.cluster_centers_\n",
        "plt.scatter(clusters[:,0],clusters[:,1],s=5000,alpha=0.85)"
      ],
      "execution_count": null,
      "outputs": [
        {
          "output_type": "execute_result",
          "data": {
            "text/plain": [
              "<matplotlib.collections.PathCollection at 0x7f798d450bd0>"
            ]
          },
          "metadata": {
            "tags": []
          },
          "execution_count": 28
        },
        {
          "output_type": "display_data",
          "data": {
            "image/png": "[encoded data removed]",
            "text/plain": [
              "<Figure size 432x288 with 1 Axes>"
            ]
          },
          "metadata": {
            "tags": [],
            "needs_background": "light"
          }
        }
      ]
    },
    {
      "cell_type": "markdown",
      "metadata": {
        "id": "syeU-IL_hLrt"
      },
      "source": [
        "***Meter  ID 102***"
      ]
    },
    {
      "cell_type": "code",
      "metadata": {
        "id": "w5wG7jrJghu5",
        "colab": {
          "base_uri": "https://localhost:8080/",
          "height": 419
        },
        "outputId": "66997c03-492b-44ca-ee67-2da9b5ee55d9"
      },
      "source": [
        "ssr_meterid_102"
      ],
      "execution_count": null,
      "outputs": [
        {
          "output_type": "execute_result",
          "data": {
            "text/html": [
              "<div>\n",
              "<style scoped>\n",
              "    .dataframe tbody tr th:only-of-type {\n",
              "        vertical-align: middle;\n",
              "    }\n",
              "\n",
              "    .dataframe tbody tr th {\n",
              "        vertical-align: top;\n",
              "    }\n",
              "\n",
              "    .dataframe thead th {\n",
              "        text-align: right;\n",
              "    }\n",
              "</style>\n",
              "<table border=\"1\" class=\"dataframe\">\n",
              "  <thead>\n",
              "    <tr style=\"text-align: right;\">\n",
              "      <th></th>\n",
              "      <th>Meter ID</th>\n",
              "      <th>R phase</th>\n",
              "      <th>Y phase</th>\n",
              "      <th>B phase</th>\n",
              "      <th>Total pow</th>\n",
              "    </tr>\n",
              "  </thead>\n",
              "  <tbody>\n",
              "    <tr>\n",
              "      <th>123922</th>\n",
              "      <td>102</td>\n",
              "      <td>0.0</td>\n",
              "      <td>0.0</td>\n",
              "      <td>0.0</td>\n",
              "      <td>0.0</td>\n",
              "    </tr>\n",
              "    <tr>\n",
              "      <th>123923</th>\n",
              "      <td>102</td>\n",
              "      <td>0.0</td>\n",
              "      <td>0.0</td>\n",
              "      <td>0.0</td>\n",
              "      <td>0.0</td>\n",
              "    </tr>\n",
              "    <tr>\n",
              "      <th>123924</th>\n",
              "      <td>102</td>\n",
              "      <td>0.0</td>\n",
              "      <td>0.0</td>\n",
              "      <td>0.0</td>\n",
              "      <td>0.0</td>\n",
              "    </tr>\n",
              "    <tr>\n",
              "      <th>123925</th>\n",
              "      <td>102</td>\n",
              "      <td>0.0</td>\n",
              "      <td>0.0</td>\n",
              "      <td>0.0</td>\n",
              "      <td>0.0</td>\n",
              "    </tr>\n",
              "    <tr>\n",
              "      <th>123926</th>\n",
              "      <td>102</td>\n",
              "      <td>0.0</td>\n",
              "      <td>0.0</td>\n",
              "      <td>0.0</td>\n",
              "      <td>0.0</td>\n",
              "    </tr>\n",
              "    <tr>\n",
              "      <th>...</th>\n",
              "      <td>...</td>\n",
              "      <td>...</td>\n",
              "      <td>...</td>\n",
              "      <td>...</td>\n",
              "      <td>...</td>\n",
              "    </tr>\n",
              "    <tr>\n",
              "      <th>151534</th>\n",
              "      <td>102</td>\n",
              "      <td>0.0</td>\n",
              "      <td>0.0</td>\n",
              "      <td>0.0</td>\n",
              "      <td>0.0</td>\n",
              "    </tr>\n",
              "    <tr>\n",
              "      <th>151535</th>\n",
              "      <td>102</td>\n",
              "      <td>0.0</td>\n",
              "      <td>0.0</td>\n",
              "      <td>0.0</td>\n",
              "      <td>0.0</td>\n",
              "    </tr>\n",
              "    <tr>\n",
              "      <th>151536</th>\n",
              "      <td>102</td>\n",
              "      <td>0.0</td>\n",
              "      <td>0.0</td>\n",
              "      <td>0.0</td>\n",
              "      <td>0.0</td>\n",
              "    </tr>\n",
              "    <tr>\n",
              "      <th>151537</th>\n",
              "      <td>102</td>\n",
              "      <td>0.0</td>\n",
              "      <td>0.0</td>\n",
              "      <td>0.0</td>\n",
              "      <td>0.0</td>\n",
              "    </tr>\n",
              "    <tr>\n",
              "      <th>151538</th>\n",
              "      <td>102</td>\n",
              "      <td>0.0</td>\n",
              "      <td>0.0</td>\n",
              "      <td>0.0</td>\n",
              "      <td>0.0</td>\n",
              "    </tr>\n",
              "  </tbody>\n",
              "</table>\n",
              "<p>27617 rows × 5 columns</p>\n",
              "</div>"
            ],
            "text/plain": [
              "        Meter ID  R phase  Y phase  B phase  Total pow\n",
              "123922       102      0.0      0.0      0.0        0.0\n",
              "123923       102      0.0      0.0      0.0        0.0\n",
              "123924       102      0.0      0.0      0.0        0.0\n",
              "123925       102      0.0      0.0      0.0        0.0\n",
              "123926       102      0.0      0.0      0.0        0.0\n",
              "...          ...      ...      ...      ...        ...\n",
              "151534       102      0.0      0.0      0.0        0.0\n",
              "151535       102      0.0      0.0      0.0        0.0\n",
              "151536       102      0.0      0.0      0.0        0.0\n",
              "151537       102      0.0      0.0      0.0        0.0\n",
              "151538       102      0.0      0.0      0.0        0.0\n",
              "\n",
              "[27617 rows x 5 columns]"
            ]
          },
          "metadata": {
            "tags": []
          },
          "execution_count": 36
        }
      ]
    },
    {
      "cell_type": "markdown",
      "metadata": {
        "id": "PmszCBo8d-Do"
      },
      "source": [
        "***Deleting other columns and we will only analyze and consider \"Total Power Consumption\"***"
      ]
    },
    {
      "cell_type": "code",
      "metadata": {
        "colab": {
          "base_uri": "https://localhost:8080/",
          "height": 419
        },
        "id": "FKnMNceHgT0_",
        "outputId": "b685a0ca-def6-45d5-a668-e6668abaa735"
      },
      "source": [
        "del ssr_meterid_102[ssr_meterid_102.columns[1]]\n",
        "ssr_meterid_102\n"
      ],
      "execution_count": null,
      "outputs": [
        {
          "output_type": "execute_result",
          "data": {
            "text/html": [
              "<div>\n",
              "<style scoped>\n",
              "    .dataframe tbody tr th:only-of-type {\n",
              "        vertical-align: middle;\n",
              "    }\n",
              "\n",
              "    .dataframe tbody tr th {\n",
              "        vertical-align: top;\n",
              "    }\n",
              "\n",
              "    .dataframe thead th {\n",
              "        text-align: right;\n",
              "    }\n",
              "</style>\n",
              "<table border=\"1\" class=\"dataframe\">\n",
              "  <thead>\n",
              "    <tr style=\"text-align: right;\">\n",
              "      <th></th>\n",
              "      <th>Meter ID</th>\n",
              "      <th>Y phase</th>\n",
              "      <th>B phase</th>\n",
              "      <th>Total pow</th>\n",
              "    </tr>\n",
              "  </thead>\n",
              "  <tbody>\n",
              "    <tr>\n",
              "      <th>123922</th>\n",
              "      <td>102</td>\n",
              "      <td>0.0</td>\n",
              "      <td>0.0</td>\n",
              "      <td>0.0</td>\n",
              "    </tr>\n",
              "    <tr>\n",
              "      <th>123923</th>\n",
              "      <td>102</td>\n",
              "      <td>0.0</td>\n",
              "      <td>0.0</td>\n",
              "      <td>0.0</td>\n",
              "    </tr>\n",
              "    <tr>\n",
              "      <th>123924</th>\n",
              "      <td>102</td>\n",
              "      <td>0.0</td>\n",
              "      <td>0.0</td>\n",
              "      <td>0.0</td>\n",
              "    </tr>\n",
              "    <tr>\n",
              "      <th>123925</th>\n",
              "      <td>102</td>\n",
              "      <td>0.0</td>\n",
              "      <td>0.0</td>\n",
              "      <td>0.0</td>\n",
              "    </tr>\n",
              "    <tr>\n",
              "      <th>123926</th>\n",
              "      <td>102</td>\n",
              "      <td>0.0</td>\n",
              "      <td>0.0</td>\n",
              "      <td>0.0</td>\n",
              "    </tr>\n",
              "    <tr>\n",
              "      <th>...</th>\n",
              "      <td>...</td>\n",
              "      <td>...</td>\n",
              "      <td>...</td>\n",
              "      <td>...</td>\n",
              "    </tr>\n",
              "    <tr>\n",
              "      <th>151534</th>\n",
              "      <td>102</td>\n",
              "      <td>0.0</td>\n",
              "      <td>0.0</td>\n",
              "      <td>0.0</td>\n",
              "    </tr>\n",
              "    <tr>\n",
              "      <th>151535</th>\n",
              "      <td>102</td>\n",
              "      <td>0.0</td>\n",
              "      <td>0.0</td>\n",
              "      <td>0.0</td>\n",
              "    </tr>\n",
              "    <tr>\n",
              "      <th>151536</th>\n",
              "      <td>102</td>\n",
              "      <td>0.0</td>\n",
              "      <td>0.0</td>\n",
              "      <td>0.0</td>\n",
              "    </tr>\n",
              "    <tr>\n",
              "      <th>151537</th>\n",
              "      <td>102</td>\n",
              "      <td>0.0</td>\n",
              "      <td>0.0</td>\n",
              "      <td>0.0</td>\n",
              "    </tr>\n",
              "    <tr>\n",
              "      <th>151538</th>\n",
              "      <td>102</td>\n",
              "      <td>0.0</td>\n",
              "      <td>0.0</td>\n",
              "      <td>0.0</td>\n",
              "    </tr>\n",
              "  </tbody>\n",
              "</table>\n",
              "<p>27617 rows × 4 columns</p>\n",
              "</div>"
            ],
            "text/plain": [
              "        Meter ID  Y phase  B phase  Total pow\n",
              "123922       102      0.0      0.0        0.0\n",
              "123923       102      0.0      0.0        0.0\n",
              "123924       102      0.0      0.0        0.0\n",
              "123925       102      0.0      0.0        0.0\n",
              "123926       102      0.0      0.0        0.0\n",
              "...          ...      ...      ...        ...\n",
              "151534       102      0.0      0.0        0.0\n",
              "151535       102      0.0      0.0        0.0\n",
              "151536       102      0.0      0.0        0.0\n",
              "151537       102      0.0      0.0        0.0\n",
              "151538       102      0.0      0.0        0.0\n",
              "\n",
              "[27617 rows x 4 columns]"
            ]
          },
          "metadata": {
            "tags": []
          },
          "execution_count": 37
        }
      ]
    },
    {
      "cell_type": "code",
      "metadata": {
        "colab": {
          "base_uri": "https://localhost:8080/",
          "height": 419
        },
        "id": "PJ5fRJe0gZSU",
        "outputId": "7613c164-8ca5-4182-e593-13f924374c31"
      },
      "source": [
        "del ssr_meterid_102[ssr_meterid_102.columns[1]]\n",
        "ssr_meterid_102\n"
      ],
      "execution_count": null,
      "outputs": [
        {
          "output_type": "execute_result",
          "data": {
            "text/html": [
              "<div>\n",
              "<style scoped>\n",
              "    .dataframe tbody tr th:only-of-type {\n",
              "        vertical-align: middle;\n",
              "    }\n",
              "\n",
              "    .dataframe tbody tr th {\n",
              "        vertical-align: top;\n",
              "    }\n",
              "\n",
              "    .dataframe thead th {\n",
              "        text-align: right;\n",
              "    }\n",
              "</style>\n",
              "<table border=\"1\" class=\"dataframe\">\n",
              "  <thead>\n",
              "    <tr style=\"text-align: right;\">\n",
              "      <th></th>\n",
              "      <th>Meter ID</th>\n",
              "      <th>B phase</th>\n",
              "      <th>Total pow</th>\n",
              "    </tr>\n",
              "  </thead>\n",
              "  <tbody>\n",
              "    <tr>\n",
              "      <th>123922</th>\n",
              "      <td>102</td>\n",
              "      <td>0.0</td>\n",
              "      <td>0.0</td>\n",
              "    </tr>\n",
              "    <tr>\n",
              "      <th>123923</th>\n",
              "      <td>102</td>\n",
              "      <td>0.0</td>\n",
              "      <td>0.0</td>\n",
              "    </tr>\n",
              "    <tr>\n",
              "      <th>123924</th>\n",
              "      <td>102</td>\n",
              "      <td>0.0</td>\n",
              "      <td>0.0</td>\n",
              "    </tr>\n",
              "    <tr>\n",
              "      <th>123925</th>\n",
              "      <td>102</td>\n",
              "      <td>0.0</td>\n",
              "      <td>0.0</td>\n",
              "    </tr>\n",
              "    <tr>\n",
              "      <th>123926</th>\n",
              "      <td>102</td>\n",
              "      <td>0.0</td>\n",
              "      <td>0.0</td>\n",
              "    </tr>\n",
              "    <tr>\n",
              "      <th>...</th>\n",
              "      <td>...</td>\n",
              "      <td>...</td>\n",
              "      <td>...</td>\n",
              "    </tr>\n",
              "    <tr>\n",
              "      <th>151534</th>\n",
              "      <td>102</td>\n",
              "      <td>0.0</td>\n",
              "      <td>0.0</td>\n",
              "    </tr>\n",
              "    <tr>\n",
              "      <th>151535</th>\n",
              "      <td>102</td>\n",
              "      <td>0.0</td>\n",
              "      <td>0.0</td>\n",
              "    </tr>\n",
              "    <tr>\n",
              "      <th>151536</th>\n",
              "      <td>102</td>\n",
              "      <td>0.0</td>\n",
              "      <td>0.0</td>\n",
              "    </tr>\n",
              "    <tr>\n",
              "      <th>151537</th>\n",
              "      <td>102</td>\n",
              "      <td>0.0</td>\n",
              "      <td>0.0</td>\n",
              "    </tr>\n",
              "    <tr>\n",
              "      <th>151538</th>\n",
              "      <td>102</td>\n",
              "      <td>0.0</td>\n",
              "      <td>0.0</td>\n",
              "    </tr>\n",
              "  </tbody>\n",
              "</table>\n",
              "<p>27617 rows × 3 columns</p>\n",
              "</div>"
            ],
            "text/plain": [
              "        Meter ID  B phase  Total pow\n",
              "123922       102      0.0        0.0\n",
              "123923       102      0.0        0.0\n",
              "123924       102      0.0        0.0\n",
              "123925       102      0.0        0.0\n",
              "123926       102      0.0        0.0\n",
              "...          ...      ...        ...\n",
              "151534       102      0.0        0.0\n",
              "151535       102      0.0        0.0\n",
              "151536       102      0.0        0.0\n",
              "151537       102      0.0        0.0\n",
              "151538       102      0.0        0.0\n",
              "\n",
              "[27617 rows x 3 columns]"
            ]
          },
          "metadata": {
            "tags": []
          },
          "execution_count": 38
        }
      ]
    },
    {
      "cell_type": "code",
      "metadata": {
        "colab": {
          "base_uri": "https://localhost:8080/",
          "height": 419
        },
        "id": "gkFD6GMhgdBZ",
        "outputId": "fa9a3ef1-114e-402f-d766-817ff2b6e4bf"
      },
      "source": [
        "del ssr_meterid_102[ssr_meterid_102.columns[1]]\n",
        "ssr_meterid_102\n"
      ],
      "execution_count": null,
      "outputs": [
        {
          "output_type": "execute_result",
          "data": {
            "text/html": [
              "<div>\n",
              "<style scoped>\n",
              "    .dataframe tbody tr th:only-of-type {\n",
              "        vertical-align: middle;\n",
              "    }\n",
              "\n",
              "    .dataframe tbody tr th {\n",
              "        vertical-align: top;\n",
              "    }\n",
              "\n",
              "    .dataframe thead th {\n",
              "        text-align: right;\n",
              "    }\n",
              "</style>\n",
              "<table border=\"1\" class=\"dataframe\">\n",
              "  <thead>\n",
              "    <tr style=\"text-align: right;\">\n",
              "      <th></th>\n",
              "      <th>Meter ID</th>\n",
              "      <th>Total pow</th>\n",
              "    </tr>\n",
              "  </thead>\n",
              "  <tbody>\n",
              "    <tr>\n",
              "      <th>123922</th>\n",
              "      <td>102</td>\n",
              "      <td>0.0</td>\n",
              "    </tr>\n",
              "    <tr>\n",
              "      <th>123923</th>\n",
              "      <td>102</td>\n",
              "      <td>0.0</td>\n",
              "    </tr>\n",
              "    <tr>\n",
              "      <th>123924</th>\n",
              "      <td>102</td>\n",
              "      <td>0.0</td>\n",
              "    </tr>\n",
              "    <tr>\n",
              "      <th>123925</th>\n",
              "      <td>102</td>\n",
              "      <td>0.0</td>\n",
              "    </tr>\n",
              "    <tr>\n",
              "      <th>123926</th>\n",
              "      <td>102</td>\n",
              "      <td>0.0</td>\n",
              "    </tr>\n",
              "    <tr>\n",
              "      <th>...</th>\n",
              "      <td>...</td>\n",
              "      <td>...</td>\n",
              "    </tr>\n",
              "    <tr>\n",
              "      <th>151534</th>\n",
              "      <td>102</td>\n",
              "      <td>0.0</td>\n",
              "    </tr>\n",
              "    <tr>\n",
              "      <th>151535</th>\n",
              "      <td>102</td>\n",
              "      <td>0.0</td>\n",
              "    </tr>\n",
              "    <tr>\n",
              "      <th>151536</th>\n",
              "      <td>102</td>\n",
              "      <td>0.0</td>\n",
              "    </tr>\n",
              "    <tr>\n",
              "      <th>151537</th>\n",
              "      <td>102</td>\n",
              "      <td>0.0</td>\n",
              "    </tr>\n",
              "    <tr>\n",
              "      <th>151538</th>\n",
              "      <td>102</td>\n",
              "      <td>0.0</td>\n",
              "    </tr>\n",
              "  </tbody>\n",
              "</table>\n",
              "<p>27617 rows × 2 columns</p>\n",
              "</div>"
            ],
            "text/plain": [
              "        Meter ID  Total pow\n",
              "123922       102        0.0\n",
              "123923       102        0.0\n",
              "123924       102        0.0\n",
              "123925       102        0.0\n",
              "123926       102        0.0\n",
              "...          ...        ...\n",
              "151534       102        0.0\n",
              "151535       102        0.0\n",
              "151536       102        0.0\n",
              "151537       102        0.0\n",
              "151538       102        0.0\n",
              "\n",
              "[27617 rows x 2 columns]"
            ]
          },
          "metadata": {
            "tags": []
          },
          "execution_count": 39
        }
      ]
    },
    {
      "cell_type": "markdown",
      "metadata": {
        "id": "swMUBa8teCEY"
      },
      "source": [
        "**Elbow method for finding optimal number of clusters**"
      ]
    },
    {
      "cell_type": "code",
      "metadata": {
        "id": "9CcN_HNqgiyE"
      },
      "source": [
        "from sklearn.cluster import KMeans\n",
        "import matplotlib.pyplot as plt\n",
        "distortions = []\n",
        "K = range(1,10)\n",
        "for k in K:\n",
        "    kmeanModel = KMeans(n_clusters=k)\n",
        "    kmeanModel.fit(ssr_meterid_102)\n",
        "    distortions.append(kmeanModel.inertia_)"
      ],
      "execution_count": null,
      "outputs": []
    },
    {
      "cell_type": "code",
      "metadata": {
        "colab": {
          "base_uri": "https://localhost:8080/",
          "height": 505
        },
        "id": "30OazFDfgqdN",
        "outputId": "bc697097-d7a6-4b90-9a52-380b2d82b883"
      },
      "source": [
        "plt.figure(figsize=(16,8))\n",
        "plt.plot(K, distortions, 'bx-')\n",
        "plt.xlabel('k')\n",
        "plt.ylabel('Distortion')\n",
        "plt.title('The Elbow Method showing the optimal k')\n",
        "plt.show()"
      ],
      "execution_count": null,
      "outputs": [
        {
          "output_type": "display_data",
          "data": {
            "image/png": "[encoded data removed]",
            "text/plain": [
              "<Figure size 1152x576 with 1 Axes>"
            ]
          },
          "metadata": {
            "tags": [],
            "needs_background": "light"
          }
        }
      ]
    },
    {
      "cell_type": "markdown",
      "metadata": {
        "id": "FMsRuIIOeKdt"
      },
      "source": [
        "**We saw its linear after n=2 so optimal cluster in this case is n=2**"
      ]
    },
    {
      "cell_type": "code",
      "metadata": {
        "colab": {
          "base_uri": "https://localhost:8080/",
          "height": 282
        },
        "id": "caXbdaMbg2cr",
        "outputId": "0d1e9d75-0329-4eb3-8248-603988682872"
      },
      "source": [
        "from sklearn.cluster import KMeans\n",
        "import matplotlib.pyplot as plt\n",
        "k_res=KMeans(n_clusters=2).fit(ssr_meterid_102)\n",
        "clusters=k_res.cluster_centers_\n",
        "plt.scatter(clusters[:,0],clusters[:,1],s=5000,alpha=0.85)"
      ],
      "execution_count": null,
      "outputs": [
        {
          "output_type": "execute_result",
          "data": {
            "text/plain": [
              "<matplotlib.collections.PathCollection at 0x7f79b5971a90>"
            ]
          },
          "metadata": {
            "tags": []
          },
          "execution_count": 42
        },
        {
          "output_type": "display_data",
          "data": {
            "image/png": "[encoded data removed]",
            "text/plain": [
              "<Figure size 432x288 with 1 Axes>"
            ]
          },
          "metadata": {
            "tags": [],
            "needs_background": "light"
          }
        }
      ]
    },
    {
      "cell_type": "markdown",
      "metadata": {
        "id": "d-KgYe6N3vsP"
      },
      "source": [
        ""
      ]
    },
    {
      "cell_type": "markdown",
      "metadata": {
        "id": "nxAFsv9XjgXD"
      },
      "source": [
        "**Meter ID 11**"
      ]
    },
    {
      "cell_type": "code",
      "metadata": {
        "colab": {
          "base_uri": "https://localhost:8080/",
          "height": 419
        },
        "id": "1fgeoRGZjkFh",
        "outputId": "ef030ec3-6f7f-4180-c108-ba8131782ef1"
      },
      "source": [
        "ssr_meterid_11"
      ],
      "execution_count": null,
      "outputs": [
        {
          "output_type": "execute_result",
          "data": {
            "text/html": [
              "<div>\n",
              "<style scoped>\n",
              "    .dataframe tbody tr th:only-of-type {\n",
              "        vertical-align: middle;\n",
              "    }\n",
              "\n",
              "    .dataframe tbody tr th {\n",
              "        vertical-align: top;\n",
              "    }\n",
              "\n",
              "    .dataframe thead th {\n",
              "        text-align: right;\n",
              "    }\n",
              "</style>\n",
              "<table border=\"1\" class=\"dataframe\">\n",
              "  <thead>\n",
              "    <tr style=\"text-align: right;\">\n",
              "      <th></th>\n",
              "      <th>Meter ID</th>\n",
              "      <th>R phase</th>\n",
              "      <th>Y phase</th>\n",
              "      <th>B phase</th>\n",
              "      <th>Total pow</th>\n",
              "    </tr>\n",
              "  </thead>\n",
              "  <tbody>\n",
              "    <tr>\n",
              "      <th>208823</th>\n",
              "      <td>11</td>\n",
              "      <td>1.2584</td>\n",
              "      <td>0.2237</td>\n",
              "      <td>0.6213</td>\n",
              "      <td>2.1035</td>\n",
              "    </tr>\n",
              "    <tr>\n",
              "      <th>208824</th>\n",
              "      <td>11</td>\n",
              "      <td>1.2428</td>\n",
              "      <td>0.2157</td>\n",
              "      <td>0.6146</td>\n",
              "      <td>2.0732</td>\n",
              "    </tr>\n",
              "    <tr>\n",
              "      <th>208825</th>\n",
              "      <td>11</td>\n",
              "      <td>1.0763</td>\n",
              "      <td>0.2136</td>\n",
              "      <td>0.6203</td>\n",
              "      <td>1.9103</td>\n",
              "    </tr>\n",
              "    <tr>\n",
              "      <th>208826</th>\n",
              "      <td>11</td>\n",
              "      <td>1.3044</td>\n",
              "      <td>0.2228</td>\n",
              "      <td>0.6542</td>\n",
              "      <td>2.1815</td>\n",
              "    </tr>\n",
              "    <tr>\n",
              "      <th>208827</th>\n",
              "      <td>11</td>\n",
              "      <td>1.2660</td>\n",
              "      <td>0.2266</td>\n",
              "      <td>0.6441</td>\n",
              "      <td>2.1368</td>\n",
              "    </tr>\n",
              "    <tr>\n",
              "      <th>...</th>\n",
              "      <td>...</td>\n",
              "      <td>...</td>\n",
              "      <td>...</td>\n",
              "      <td>...</td>\n",
              "      <td>...</td>\n",
              "    </tr>\n",
              "    <tr>\n",
              "      <th>237480</th>\n",
              "      <td>11</td>\n",
              "      <td>2.1338</td>\n",
              "      <td>1.0802</td>\n",
              "      <td>0.6143</td>\n",
              "      <td>3.8284</td>\n",
              "    </tr>\n",
              "    <tr>\n",
              "      <th>237481</th>\n",
              "      <td>11</td>\n",
              "      <td>2.1179</td>\n",
              "      <td>1.0732</td>\n",
              "      <td>0.6681</td>\n",
              "      <td>3.8592</td>\n",
              "    </tr>\n",
              "    <tr>\n",
              "      <th>237482</th>\n",
              "      <td>11</td>\n",
              "      <td>2.0426</td>\n",
              "      <td>1.0766</td>\n",
              "      <td>0.6203</td>\n",
              "      <td>3.7396</td>\n",
              "    </tr>\n",
              "    <tr>\n",
              "      <th>237483</th>\n",
              "      <td>11</td>\n",
              "      <td>2.0418</td>\n",
              "      <td>1.0979</td>\n",
              "      <td>0.6590</td>\n",
              "      <td>3.7989</td>\n",
              "    </tr>\n",
              "    <tr>\n",
              "      <th>237484</th>\n",
              "      <td>11</td>\n",
              "      <td>2.0369</td>\n",
              "      <td>1.0807</td>\n",
              "      <td>0.6043</td>\n",
              "      <td>3.7220</td>\n",
              "    </tr>\n",
              "  </tbody>\n",
              "</table>\n",
              "<p>28662 rows × 5 columns</p>\n",
              "</div>"
            ],
            "text/plain": [
              "        Meter ID  R phase  Y phase  B phase  Total pow\n",
              "208823        11   1.2584   0.2237   0.6213     2.1035\n",
              "208824        11   1.2428   0.2157   0.6146     2.0732\n",
              "208825        11   1.0763   0.2136   0.6203     1.9103\n",
              "208826        11   1.3044   0.2228   0.6542     2.1815\n",
              "208827        11   1.2660   0.2266   0.6441     2.1368\n",
              "...          ...      ...      ...      ...        ...\n",
              "237480        11   2.1338   1.0802   0.6143     3.8284\n",
              "237481        11   2.1179   1.0732   0.6681     3.8592\n",
              "237482        11   2.0426   1.0766   0.6203     3.7396\n",
              "237483        11   2.0418   1.0979   0.6590     3.7989\n",
              "237484        11   2.0369   1.0807   0.6043     3.7220\n",
              "\n",
              "[28662 rows x 5 columns]"
            ]
          },
          "metadata": {
            "tags": []
          },
          "execution_count": 43
        }
      ]
    },
    {
      "cell_type": "markdown",
      "metadata": {
        "id": "TC1U2Z_zeWoi"
      },
      "source": [
        "***Deleting other columns and we will only analyze and consider \"Total Power Consumption\"***"
      ]
    },
    {
      "cell_type": "code",
      "metadata": {
        "colab": {
          "base_uri": "https://localhost:8080/",
          "height": 419
        },
        "id": "C_ykp0WKjmqN",
        "outputId": "550d484d-ea2b-4dc8-e22c-f99f557708bf"
      },
      "source": [
        "del ssr_meterid_11[ssr_meterid_11.columns[1]]\n",
        "ssr_meterid_11\n"
      ],
      "execution_count": null,
      "outputs": [
        {
          "output_type": "execute_result",
          "data": {
            "text/html": [
              "<div>\n",
              "<style scoped>\n",
              "    .dataframe tbody tr th:only-of-type {\n",
              "        vertical-align: middle;\n",
              "    }\n",
              "\n",
              "    .dataframe tbody tr th {\n",
              "        vertical-align: top;\n",
              "    }\n",
              "\n",
              "    .dataframe thead th {\n",
              "        text-align: right;\n",
              "    }\n",
              "</style>\n",
              "<table border=\"1\" class=\"dataframe\">\n",
              "  <thead>\n",
              "    <tr style=\"text-align: right;\">\n",
              "      <th></th>\n",
              "      <th>Meter ID</th>\n",
              "      <th>Y phase</th>\n",
              "      <th>B phase</th>\n",
              "      <th>Total pow</th>\n",
              "    </tr>\n",
              "  </thead>\n",
              "  <tbody>\n",
              "    <tr>\n",
              "      <th>208823</th>\n",
              "      <td>11</td>\n",
              "      <td>0.2237</td>\n",
              "      <td>0.6213</td>\n",
              "      <td>2.1035</td>\n",
              "    </tr>\n",
              "    <tr>\n",
              "      <th>208824</th>\n",
              "      <td>11</td>\n",
              "      <td>0.2157</td>\n",
              "      <td>0.6146</td>\n",
              "      <td>2.0732</td>\n",
              "    </tr>\n",
              "    <tr>\n",
              "      <th>208825</th>\n",
              "      <td>11</td>\n",
              "      <td>0.2136</td>\n",
              "      <td>0.6203</td>\n",
              "      <td>1.9103</td>\n",
              "    </tr>\n",
              "    <tr>\n",
              "      <th>208826</th>\n",
              "      <td>11</td>\n",
              "      <td>0.2228</td>\n",
              "      <td>0.6542</td>\n",
              "      <td>2.1815</td>\n",
              "    </tr>\n",
              "    <tr>\n",
              "      <th>208827</th>\n",
              "      <td>11</td>\n",
              "      <td>0.2266</td>\n",
              "      <td>0.6441</td>\n",
              "      <td>2.1368</td>\n",
              "    </tr>\n",
              "    <tr>\n",
              "      <th>...</th>\n",
              "      <td>...</td>\n",
              "      <td>...</td>\n",
              "      <td>...</td>\n",
              "      <td>...</td>\n",
              "    </tr>\n",
              "    <tr>\n",
              "      <th>237480</th>\n",
              "      <td>11</td>\n",
              "      <td>1.0802</td>\n",
              "      <td>0.6143</td>\n",
              "      <td>3.8284</td>\n",
              "    </tr>\n",
              "    <tr>\n",
              "      <th>237481</th>\n",
              "      <td>11</td>\n",
              "      <td>1.0732</td>\n",
              "      <td>0.6681</td>\n",
              "      <td>3.8592</td>\n",
              "    </tr>\n",
              "    <tr>\n",
              "      <th>237482</th>\n",
              "      <td>11</td>\n",
              "      <td>1.0766</td>\n",
              "      <td>0.6203</td>\n",
              "      <td>3.7396</td>\n",
              "    </tr>\n",
              "    <tr>\n",
              "      <th>237483</th>\n",
              "      <td>11</td>\n",
              "      <td>1.0979</td>\n",
              "      <td>0.6590</td>\n",
              "      <td>3.7989</td>\n",
              "    </tr>\n",
              "    <tr>\n",
              "      <th>237484</th>\n",
              "      <td>11</td>\n",
              "      <td>1.0807</td>\n",
              "      <td>0.6043</td>\n",
              "      <td>3.7220</td>\n",
              "    </tr>\n",
              "  </tbody>\n",
              "</table>\n",
              "<p>28662 rows × 4 columns</p>\n",
              "</div>"
            ],
            "text/plain": [
              "        Meter ID  Y phase  B phase  Total pow\n",
              "208823        11   0.2237   0.6213     2.1035\n",
              "208824        11   0.2157   0.6146     2.0732\n",
              "208825        11   0.2136   0.6203     1.9103\n",
              "208826        11   0.2228   0.6542     2.1815\n",
              "208827        11   0.2266   0.6441     2.1368\n",
              "...          ...      ...      ...        ...\n",
              "237480        11   1.0802   0.6143     3.8284\n",
              "237481        11   1.0732   0.6681     3.8592\n",
              "237482        11   1.0766   0.6203     3.7396\n",
              "237483        11   1.0979   0.6590     3.7989\n",
              "237484        11   1.0807   0.6043     3.7220\n",
              "\n",
              "[28662 rows x 4 columns]"
            ]
          },
          "metadata": {
            "tags": []
          },
          "execution_count": 44
        }
      ]
    },
    {
      "cell_type": "code",
      "metadata": {
        "colab": {
          "base_uri": "https://localhost:8080/",
          "height": 419
        },
        "id": "3Ri4YIVej2lf",
        "outputId": "0331b02a-7c95-416b-d493-482691cfeb67"
      },
      "source": [
        "del ssr_meterid_11[ssr_meterid_11.columns[1]]\n",
        "ssr_meterid_11\n"
      ],
      "execution_count": null,
      "outputs": [
        {
          "output_type": "execute_result",
          "data": {
            "text/html": [
              "<div>\n",
              "<style scoped>\n",
              "    .dataframe tbody tr th:only-of-type {\n",
              "        vertical-align: middle;\n",
              "    }\n",
              "\n",
              "    .dataframe tbody tr th {\n",
              "        vertical-align: top;\n",
              "    }\n",
              "\n",
              "    .dataframe thead th {\n",
              "        text-align: right;\n",
              "    }\n",
              "</style>\n",
              "<table border=\"1\" class=\"dataframe\">\n",
              "  <thead>\n",
              "    <tr style=\"text-align: right;\">\n",
              "      <th></th>\n",
              "      <th>Meter ID</th>\n",
              "      <th>B phase</th>\n",
              "      <th>Total pow</th>\n",
              "    </tr>\n",
              "  </thead>\n",
              "  <tbody>\n",
              "    <tr>\n",
              "      <th>208823</th>\n",
              "      <td>11</td>\n",
              "      <td>0.6213</td>\n",
              "      <td>2.1035</td>\n",
              "    </tr>\n",
              "    <tr>\n",
              "      <th>208824</th>\n",
              "      <td>11</td>\n",
              "      <td>0.6146</td>\n",
              "      <td>2.0732</td>\n",
              "    </tr>\n",
              "    <tr>\n",
              "      <th>208825</th>\n",
              "      <td>11</td>\n",
              "      <td>0.6203</td>\n",
              "      <td>1.9103</td>\n",
              "    </tr>\n",
              "    <tr>\n",
              "      <th>208826</th>\n",
              "      <td>11</td>\n",
              "      <td>0.6542</td>\n",
              "      <td>2.1815</td>\n",
              "    </tr>\n",
              "    <tr>\n",
              "      <th>208827</th>\n",
              "      <td>11</td>\n",
              "      <td>0.6441</td>\n",
              "      <td>2.1368</td>\n",
              "    </tr>\n",
              "    <tr>\n",
              "      <th>...</th>\n",
              "      <td>...</td>\n",
              "      <td>...</td>\n",
              "      <td>...</td>\n",
              "    </tr>\n",
              "    <tr>\n",
              "      <th>237480</th>\n",
              "      <td>11</td>\n",
              "      <td>0.6143</td>\n",
              "      <td>3.8284</td>\n",
              "    </tr>\n",
              "    <tr>\n",
              "      <th>237481</th>\n",
              "      <td>11</td>\n",
              "      <td>0.6681</td>\n",
              "      <td>3.8592</td>\n",
              "    </tr>\n",
              "    <tr>\n",
              "      <th>237482</th>\n",
              "      <td>11</td>\n",
              "      <td>0.6203</td>\n",
              "      <td>3.7396</td>\n",
              "    </tr>\n",
              "    <tr>\n",
              "      <th>237483</th>\n",
              "      <td>11</td>\n",
              "      <td>0.6590</td>\n",
              "      <td>3.7989</td>\n",
              "    </tr>\n",
              "    <tr>\n",
              "      <th>237484</th>\n",
              "      <td>11</td>\n",
              "      <td>0.6043</td>\n",
              "      <td>3.7220</td>\n",
              "    </tr>\n",
              "  </tbody>\n",
              "</table>\n",
              "<p>28662 rows × 3 columns</p>\n",
              "</div>"
            ],
            "text/plain": [
              "        Meter ID  B phase  Total pow\n",
              "208823        11   0.6213     2.1035\n",
              "208824        11   0.6146     2.0732\n",
              "208825        11   0.6203     1.9103\n",
              "208826        11   0.6542     2.1815\n",
              "208827        11   0.6441     2.1368\n",
              "...          ...      ...        ...\n",
              "237480        11   0.6143     3.8284\n",
              "237481        11   0.6681     3.8592\n",
              "237482        11   0.6203     3.7396\n",
              "237483        11   0.6590     3.7989\n",
              "237484        11   0.6043     3.7220\n",
              "\n",
              "[28662 rows x 3 columns]"
            ]
          },
          "metadata": {
            "tags": []
          },
          "execution_count": 45
        }
      ]
    },
    {
      "cell_type": "code",
      "metadata": {
        "colab": {
          "base_uri": "https://localhost:8080/",
          "height": 419
        },
        "id": "R77YJCQ7j5h2",
        "outputId": "2cba12c7-4306-413a-85eb-a83da4d8274d"
      },
      "source": [
        "del ssr_meterid_11[ssr_meterid_11.columns[1]]\n",
        "ssr_meterid_11\n"
      ],
      "execution_count": null,
      "outputs": [
        {
          "output_type": "execute_result",
          "data": {
            "text/html": [
              "<div>\n",
              "<style scoped>\n",
              "    .dataframe tbody tr th:only-of-type {\n",
              "        vertical-align: middle;\n",
              "    }\n",
              "\n",
              "    .dataframe tbody tr th {\n",
              "        vertical-align: top;\n",
              "    }\n",
              "\n",
              "    .dataframe thead th {\n",
              "        text-align: right;\n",
              "    }\n",
              "</style>\n",
              "<table border=\"1\" class=\"dataframe\">\n",
              "  <thead>\n",
              "    <tr style=\"text-align: right;\">\n",
              "      <th></th>\n",
              "      <th>Meter ID</th>\n",
              "      <th>Total pow</th>\n",
              "    </tr>\n",
              "  </thead>\n",
              "  <tbody>\n",
              "    <tr>\n",
              "      <th>208823</th>\n",
              "      <td>11</td>\n",
              "      <td>2.1035</td>\n",
              "    </tr>\n",
              "    <tr>\n",
              "      <th>208824</th>\n",
              "      <td>11</td>\n",
              "      <td>2.0732</td>\n",
              "    </tr>\n",
              "    <tr>\n",
              "      <th>208825</th>\n",
              "      <td>11</td>\n",
              "      <td>1.9103</td>\n",
              "    </tr>\n",
              "    <tr>\n",
              "      <th>208826</th>\n",
              "      <td>11</td>\n",
              "      <td>2.1815</td>\n",
              "    </tr>\n",
              "    <tr>\n",
              "      <th>208827</th>\n",
              "      <td>11</td>\n",
              "      <td>2.1368</td>\n",
              "    </tr>\n",
              "    <tr>\n",
              "      <th>...</th>\n",
              "      <td>...</td>\n",
              "      <td>...</td>\n",
              "    </tr>\n",
              "    <tr>\n",
              "      <th>237480</th>\n",
              "      <td>11</td>\n",
              "      <td>3.8284</td>\n",
              "    </tr>\n",
              "    <tr>\n",
              "      <th>237481</th>\n",
              "      <td>11</td>\n",
              "      <td>3.8592</td>\n",
              "    </tr>\n",
              "    <tr>\n",
              "      <th>237482</th>\n",
              "      <td>11</td>\n",
              "      <td>3.7396</td>\n",
              "    </tr>\n",
              "    <tr>\n",
              "      <th>237483</th>\n",
              "      <td>11</td>\n",
              "      <td>3.7989</td>\n",
              "    </tr>\n",
              "    <tr>\n",
              "      <th>237484</th>\n",
              "      <td>11</td>\n",
              "      <td>3.7220</td>\n",
              "    </tr>\n",
              "  </tbody>\n",
              "</table>\n",
              "<p>28662 rows × 2 columns</p>\n",
              "</div>"
            ],
            "text/plain": [
              "        Meter ID  Total pow\n",
              "208823        11     2.1035\n",
              "208824        11     2.0732\n",
              "208825        11     1.9103\n",
              "208826        11     2.1815\n",
              "208827        11     2.1368\n",
              "...          ...        ...\n",
              "237480        11     3.8284\n",
              "237481        11     3.8592\n",
              "237482        11     3.7396\n",
              "237483        11     3.7989\n",
              "237484        11     3.7220\n",
              "\n",
              "[28662 rows x 2 columns]"
            ]
          },
          "metadata": {
            "tags": []
          },
          "execution_count": 46
        }
      ]
    },
    {
      "cell_type": "markdown",
      "metadata": {
        "id": "VOQMTtdNeZ05"
      },
      "source": [
        "**Elbow method for finding optimal number of clusters**"
      ]
    },
    {
      "cell_type": "code",
      "metadata": {
        "id": "FQ0_79Ftj8vy"
      },
      "source": [
        "from sklearn.cluster import KMeans\n",
        "import matplotlib.pyplot as plt\n",
        "distortions = []\n",
        "K = range(1,10)\n",
        "for k in K:\n",
        "    kmeanModel = KMeans(n_clusters=k)\n",
        "    kmeanModel.fit(ssr_meterid_11)\n",
        "    distortions.append(kmeanModel.inertia_)"
      ],
      "execution_count": null,
      "outputs": []
    },
    {
      "cell_type": "code",
      "metadata": {
        "colab": {
          "base_uri": "https://localhost:8080/",
          "height": 505
        },
        "id": "HcMaTFFfkEJ0",
        "outputId": "f4c945b5-cfed-4a48-958d-34d94c55d328"
      },
      "source": [
        "plt.figure(figsize=(16,8))\n",
        "plt.plot(K, distortions, 'bx-')\n",
        "plt.xlabel('k')\n",
        "plt.ylabel('Distortion')\n",
        "plt.title('The Elbow Method showing the optimal k')\n",
        "plt.show()"
      ],
      "execution_count": null,
      "outputs": [
        {
          "output_type": "display_data",
          "data": {
            "image/png": "[encoded data removed]",
            "text/plain": [
              "<Figure size 1152x576 with 1 Axes>"
            ]
          },
          "metadata": {
            "tags": [],
            "needs_background": "light"
          }
        }
      ]
    },
    {
      "cell_type": "markdown",
      "metadata": {
        "id": "0j-CYrh_eiOC"
      },
      "source": [
        "**We can see that graph is linear after n=4 so the optimal number of cluster will be n=4**"
      ]
    },
    {
      "cell_type": "code",
      "metadata": {
        "colab": {
          "base_uri": "https://localhost:8080/",
          "height": 282
        },
        "id": "j38OZU45kLGz",
        "outputId": "2a4f48dd-74d9-4dd3-d406-d809b52268cd"
      },
      "source": [
        "from sklearn.cluster import KMeans\n",
        "import matplotlib.pyplot as plt\n",
        "k_res=KMeans(n_clusters=4).fit(ssr_meterid_11)\n",
        "clusters=k_res.cluster_centers_\n",
        "plt.scatter(clusters[:,0],clusters[:,1],s=5000,alpha=0.85)"
      ],
      "execution_count": null,
      "outputs": [
        {
          "output_type": "execute_result",
          "data": {
            "text/plain": [
              "<matplotlib.collections.PathCollection at 0x7f79b50e69d0>"
            ]
          },
          "metadata": {
            "tags": []
          },
          "execution_count": 54
        },
        {
          "output_type": "display_data",
          "data": {
            "image/png": "[encoded data removed]",
            "text/plain": [
              "<Figure size 432x288 with 1 Axes>"
            ]
          },
          "metadata": {
            "tags": [],
            "needs_background": "light"
          }
        }
      ]
    },
    {
      "cell_type": "markdown",
      "metadata": {
        "id": "g92wJkM3loFM"
      },
      "source": [
        "***Meter ID 2***"
      ]
    },
    {
      "cell_type": "code",
      "metadata": {
        "colab": {
          "base_uri": "https://localhost:8080/",
          "height": 419
        },
        "id": "dh-bKD7ylOcj",
        "outputId": "85f8e435-af0c-4f3b-a3a3-076b84b17670"
      },
      "source": [
        "ssr_meterid_2"
      ],
      "execution_count": null,
      "outputs": [
        {
          "output_type": "execute_result",
          "data": {
            "text/html": [
              "<div>\n",
              "<style scoped>\n",
              "    .dataframe tbody tr th:only-of-type {\n",
              "        vertical-align: middle;\n",
              "    }\n",
              "\n",
              "    .dataframe tbody tr th {\n",
              "        vertical-align: top;\n",
              "    }\n",
              "\n",
              "    .dataframe thead th {\n",
              "        text-align: right;\n",
              "    }\n",
              "</style>\n",
              "<table border=\"1\" class=\"dataframe\">\n",
              "  <thead>\n",
              "    <tr style=\"text-align: right;\">\n",
              "      <th></th>\n",
              "      <th>Meter ID</th>\n",
              "      <th>R phase</th>\n",
              "      <th>Y phase</th>\n",
              "      <th>B phase</th>\n",
              "      <th>Total pow</th>\n",
              "    </tr>\n",
              "  </thead>\n",
              "  <tbody>\n",
              "    <tr>\n",
              "      <th>324315</th>\n",
              "      <td>2</td>\n",
              "      <td>3.8202</td>\n",
              "      <td>5.5739</td>\n",
              "      <td>5.4030</td>\n",
              "      <td>14.7972</td>\n",
              "    </tr>\n",
              "    <tr>\n",
              "      <th>324316</th>\n",
              "      <td>2</td>\n",
              "      <td>3.9114</td>\n",
              "      <td>5.5481</td>\n",
              "      <td>6.2444</td>\n",
              "      <td>15.7039</td>\n",
              "    </tr>\n",
              "    <tr>\n",
              "      <th>324317</th>\n",
              "      <td>2</td>\n",
              "      <td>3.7562</td>\n",
              "      <td>5.4320</td>\n",
              "      <td>5.4014</td>\n",
              "      <td>14.5897</td>\n",
              "    </tr>\n",
              "    <tr>\n",
              "      <th>324318</th>\n",
              "      <td>2</td>\n",
              "      <td>3.2338</td>\n",
              "      <td>5.0329</td>\n",
              "      <td>6.6849</td>\n",
              "      <td>14.9518</td>\n",
              "    </tr>\n",
              "    <tr>\n",
              "      <th>324319</th>\n",
              "      <td>2</td>\n",
              "      <td>3.1552</td>\n",
              "      <td>5.0070</td>\n",
              "      <td>3.3412</td>\n",
              "      <td>11.5035</td>\n",
              "    </tr>\n",
              "    <tr>\n",
              "      <th>...</th>\n",
              "      <td>...</td>\n",
              "      <td>...</td>\n",
              "      <td>...</td>\n",
              "      <td>...</td>\n",
              "      <td>...</td>\n",
              "    </tr>\n",
              "    <tr>\n",
              "      <th>353250</th>\n",
              "      <td>2</td>\n",
              "      <td>3.0926</td>\n",
              "      <td>7.3785</td>\n",
              "      <td>4.9604</td>\n",
              "      <td>15.4315</td>\n",
              "    </tr>\n",
              "    <tr>\n",
              "      <th>353251</th>\n",
              "      <td>2</td>\n",
              "      <td>3.0832</td>\n",
              "      <td>2.9454</td>\n",
              "      <td>4.7911</td>\n",
              "      <td>10.8199</td>\n",
              "    </tr>\n",
              "    <tr>\n",
              "      <th>353252</th>\n",
              "      <td>2</td>\n",
              "      <td>3.0822</td>\n",
              "      <td>7.3359</td>\n",
              "      <td>4.9281</td>\n",
              "      <td>15.3463</td>\n",
              "    </tr>\n",
              "    <tr>\n",
              "      <th>353253</th>\n",
              "      <td>2</td>\n",
              "      <td>3.0414</td>\n",
              "      <td>7.4309</td>\n",
              "      <td>3.1891</td>\n",
              "      <td>13.6614</td>\n",
              "    </tr>\n",
              "    <tr>\n",
              "      <th>353254</th>\n",
              "      <td>2</td>\n",
              "      <td>3.0541</td>\n",
              "      <td>5.9189</td>\n",
              "      <td>3.9412</td>\n",
              "      <td>12.9143</td>\n",
              "    </tr>\n",
              "  </tbody>\n",
              "</table>\n",
              "<p>28940 rows × 5 columns</p>\n",
              "</div>"
            ],
            "text/plain": [
              "        Meter ID  R phase  Y phase  B phase  Total pow\n",
              "324315         2   3.8202   5.5739   5.4030    14.7972\n",
              "324316         2   3.9114   5.5481   6.2444    15.7039\n",
              "324317         2   3.7562   5.4320   5.4014    14.5897\n",
              "324318         2   3.2338   5.0329   6.6849    14.9518\n",
              "324319         2   3.1552   5.0070   3.3412    11.5035\n",
              "...          ...      ...      ...      ...        ...\n",
              "353250         2   3.0926   7.3785   4.9604    15.4315\n",
              "353251         2   3.0832   2.9454   4.7911    10.8199\n",
              "353252         2   3.0822   7.3359   4.9281    15.3463\n",
              "353253         2   3.0414   7.4309   3.1891    13.6614\n",
              "353254         2   3.0541   5.9189   3.9412    12.9143\n",
              "\n",
              "[28940 rows x 5 columns]"
            ]
          },
          "metadata": {
            "tags": []
          },
          "execution_count": 61
        }
      ]
    },
    {
      "cell_type": "markdown",
      "metadata": {
        "id": "c05kRbdrexPm"
      },
      "source": [
        "***Deleting other columns and we will only analyze and consider \"Total Power Consumption\"***"
      ]
    },
    {
      "cell_type": "code",
      "metadata": {
        "colab": {
          "base_uri": "https://localhost:8080/",
          "height": 419
        },
        "id": "LTWsNtGpmZFa",
        "outputId": "d0458da6-e372-4657-9ebb-1592b2a8d3d0"
      },
      "source": [
        "del ssr_meterid_2[ssr_meterid_2.columns[1]]\n",
        "ssr_meterid_2\n"
      ],
      "execution_count": null,
      "outputs": [
        {
          "output_type": "execute_result",
          "data": {
            "text/html": [
              "<div>\n",
              "<style scoped>\n",
              "    .dataframe tbody tr th:only-of-type {\n",
              "        vertical-align: middle;\n",
              "    }\n",
              "\n",
              "    .dataframe tbody tr th {\n",
              "        vertical-align: top;\n",
              "    }\n",
              "\n",
              "    .dataframe thead th {\n",
              "        text-align: right;\n",
              "    }\n",
              "</style>\n",
              "<table border=\"1\" class=\"dataframe\">\n",
              "  <thead>\n",
              "    <tr style=\"text-align: right;\">\n",
              "      <th></th>\n",
              "      <th>Meter ID</th>\n",
              "      <th>Y phase</th>\n",
              "      <th>B phase</th>\n",
              "      <th>Total pow</th>\n",
              "    </tr>\n",
              "  </thead>\n",
              "  <tbody>\n",
              "    <tr>\n",
              "      <th>324315</th>\n",
              "      <td>2</td>\n",
              "      <td>5.5739</td>\n",
              "      <td>5.4030</td>\n",
              "      <td>14.7972</td>\n",
              "    </tr>\n",
              "    <tr>\n",
              "      <th>324316</th>\n",
              "      <td>2</td>\n",
              "      <td>5.5481</td>\n",
              "      <td>6.2444</td>\n",
              "      <td>15.7039</td>\n",
              "    </tr>\n",
              "    <tr>\n",
              "      <th>324317</th>\n",
              "      <td>2</td>\n",
              "      <td>5.4320</td>\n",
              "      <td>5.4014</td>\n",
              "      <td>14.5897</td>\n",
              "    </tr>\n",
              "    <tr>\n",
              "      <th>324318</th>\n",
              "      <td>2</td>\n",
              "      <td>5.0329</td>\n",
              "      <td>6.6849</td>\n",
              "      <td>14.9518</td>\n",
              "    </tr>\n",
              "    <tr>\n",
              "      <th>324319</th>\n",
              "      <td>2</td>\n",
              "      <td>5.0070</td>\n",
              "      <td>3.3412</td>\n",
              "      <td>11.5035</td>\n",
              "    </tr>\n",
              "    <tr>\n",
              "      <th>...</th>\n",
              "      <td>...</td>\n",
              "      <td>...</td>\n",
              "      <td>...</td>\n",
              "      <td>...</td>\n",
              "    </tr>\n",
              "    <tr>\n",
              "      <th>353250</th>\n",
              "      <td>2</td>\n",
              "      <td>7.3785</td>\n",
              "      <td>4.9604</td>\n",
              "      <td>15.4315</td>\n",
              "    </tr>\n",
              "    <tr>\n",
              "      <th>353251</th>\n",
              "      <td>2</td>\n",
              "      <td>2.9454</td>\n",
              "      <td>4.7911</td>\n",
              "      <td>10.8199</td>\n",
              "    </tr>\n",
              "    <tr>\n",
              "      <th>353252</th>\n",
              "      <td>2</td>\n",
              "      <td>7.3359</td>\n",
              "      <td>4.9281</td>\n",
              "      <td>15.3463</td>\n",
              "    </tr>\n",
              "    <tr>\n",
              "      <th>353253</th>\n",
              "      <td>2</td>\n",
              "      <td>7.4309</td>\n",
              "      <td>3.1891</td>\n",
              "      <td>13.6614</td>\n",
              "    </tr>\n",
              "    <tr>\n",
              "      <th>353254</th>\n",
              "      <td>2</td>\n",
              "      <td>5.9189</td>\n",
              "      <td>3.9412</td>\n",
              "      <td>12.9143</td>\n",
              "    </tr>\n",
              "  </tbody>\n",
              "</table>\n",
              "<p>28940 rows × 4 columns</p>\n",
              "</div>"
            ],
            "text/plain": [
              "        Meter ID  Y phase  B phase  Total pow\n",
              "324315         2   5.5739   5.4030    14.7972\n",
              "324316         2   5.5481   6.2444    15.7039\n",
              "324317         2   5.4320   5.4014    14.5897\n",
              "324318         2   5.0329   6.6849    14.9518\n",
              "324319         2   5.0070   3.3412    11.5035\n",
              "...          ...      ...      ...        ...\n",
              "353250         2   7.3785   4.9604    15.4315\n",
              "353251         2   2.9454   4.7911    10.8199\n",
              "353252         2   7.3359   4.9281    15.3463\n",
              "353253         2   7.4309   3.1891    13.6614\n",
              "353254         2   5.9189   3.9412    12.9143\n",
              "\n",
              "[28940 rows x 4 columns]"
            ]
          },
          "metadata": {
            "tags": []
          },
          "execution_count": 62
        }
      ]
    },
    {
      "cell_type": "code",
      "metadata": {
        "colab": {
          "base_uri": "https://localhost:8080/",
          "height": 419
        },
        "id": "KWQstEjWmqE7",
        "outputId": "08ef5b68-2921-453a-c454-fb1eee364ad3"
      },
      "source": [
        "del ssr_meterid_2[ssr_meterid_2.columns[1]]\n",
        "ssr_meterid_2\n"
      ],
      "execution_count": null,
      "outputs": [
        {
          "output_type": "execute_result",
          "data": {
            "text/html": [
              "<div>\n",
              "<style scoped>\n",
              "    .dataframe tbody tr th:only-of-type {\n",
              "        vertical-align: middle;\n",
              "    }\n",
              "\n",
              "    .dataframe tbody tr th {\n",
              "        vertical-align: top;\n",
              "    }\n",
              "\n",
              "    .dataframe thead th {\n",
              "        text-align: right;\n",
              "    }\n",
              "</style>\n",
              "<table border=\"1\" class=\"dataframe\">\n",
              "  <thead>\n",
              "    <tr style=\"text-align: right;\">\n",
              "      <th></th>\n",
              "      <th>Meter ID</th>\n",
              "      <th>B phase</th>\n",
              "      <th>Total pow</th>\n",
              "    </tr>\n",
              "  </thead>\n",
              "  <tbody>\n",
              "    <tr>\n",
              "      <th>324315</th>\n",
              "      <td>2</td>\n",
              "      <td>5.4030</td>\n",
              "      <td>14.7972</td>\n",
              "    </tr>\n",
              "    <tr>\n",
              "      <th>324316</th>\n",
              "      <td>2</td>\n",
              "      <td>6.2444</td>\n",
              "      <td>15.7039</td>\n",
              "    </tr>\n",
              "    <tr>\n",
              "      <th>324317</th>\n",
              "      <td>2</td>\n",
              "      <td>5.4014</td>\n",
              "      <td>14.5897</td>\n",
              "    </tr>\n",
              "    <tr>\n",
              "      <th>324318</th>\n",
              "      <td>2</td>\n",
              "      <td>6.6849</td>\n",
              "      <td>14.9518</td>\n",
              "    </tr>\n",
              "    <tr>\n",
              "      <th>324319</th>\n",
              "      <td>2</td>\n",
              "      <td>3.3412</td>\n",
              "      <td>11.5035</td>\n",
              "    </tr>\n",
              "    <tr>\n",
              "      <th>...</th>\n",
              "      <td>...</td>\n",
              "      <td>...</td>\n",
              "      <td>...</td>\n",
              "    </tr>\n",
              "    <tr>\n",
              "      <th>353250</th>\n",
              "      <td>2</td>\n",
              "      <td>4.9604</td>\n",
              "      <td>15.4315</td>\n",
              "    </tr>\n",
              "    <tr>\n",
              "      <th>353251</th>\n",
              "      <td>2</td>\n",
              "      <td>4.7911</td>\n",
              "      <td>10.8199</td>\n",
              "    </tr>\n",
              "    <tr>\n",
              "      <th>353252</th>\n",
              "      <td>2</td>\n",
              "      <td>4.9281</td>\n",
              "      <td>15.3463</td>\n",
              "    </tr>\n",
              "    <tr>\n",
              "      <th>353253</th>\n",
              "      <td>2</td>\n",
              "      <td>3.1891</td>\n",
              "      <td>13.6614</td>\n",
              "    </tr>\n",
              "    <tr>\n",
              "      <th>353254</th>\n",
              "      <td>2</td>\n",
              "      <td>3.9412</td>\n",
              "      <td>12.9143</td>\n",
              "    </tr>\n",
              "  </tbody>\n",
              "</table>\n",
              "<p>28940 rows × 3 columns</p>\n",
              "</div>"
            ],
            "text/plain": [
              "        Meter ID  B phase  Total pow\n",
              "324315         2   5.4030    14.7972\n",
              "324316         2   6.2444    15.7039\n",
              "324317         2   5.4014    14.5897\n",
              "324318         2   6.6849    14.9518\n",
              "324319         2   3.3412    11.5035\n",
              "...          ...      ...        ...\n",
              "353250         2   4.9604    15.4315\n",
              "353251         2   4.7911    10.8199\n",
              "353252         2   4.9281    15.3463\n",
              "353253         2   3.1891    13.6614\n",
              "353254         2   3.9412    12.9143\n",
              "\n",
              "[28940 rows x 3 columns]"
            ]
          },
          "metadata": {
            "tags": []
          },
          "execution_count": 63
        }
      ]
    },
    {
      "cell_type": "code",
      "metadata": {
        "colab": {
          "base_uri": "https://localhost:8080/",
          "height": 419
        },
        "id": "jrgeWbT4muRs",
        "outputId": "85e1a7fa-7d01-4093-e8cc-3000c82fe3ad"
      },
      "source": [
        "del ssr_meterid_2[ssr_meterid_2.columns[1]]\n",
        "ssr_meterid_2\n"
      ],
      "execution_count": null,
      "outputs": [
        {
          "output_type": "execute_result",
          "data": {
            "text/html": [
              "<div>\n",
              "<style scoped>\n",
              "    .dataframe tbody tr th:only-of-type {\n",
              "        vertical-align: middle;\n",
              "    }\n",
              "\n",
              "    .dataframe tbody tr th {\n",
              "        vertical-align: top;\n",
              "    }\n",
              "\n",
              "    .dataframe thead th {\n",
              "        text-align: right;\n",
              "    }\n",
              "</style>\n",
              "<table border=\"1\" class=\"dataframe\">\n",
              "  <thead>\n",
              "    <tr style=\"text-align: right;\">\n",
              "      <th></th>\n",
              "      <th>Meter ID</th>\n",
              "      <th>Total pow</th>\n",
              "    </tr>\n",
              "  </thead>\n",
              "  <tbody>\n",
              "    <tr>\n",
              "      <th>324315</th>\n",
              "      <td>2</td>\n",
              "      <td>14.7972</td>\n",
              "    </tr>\n",
              "    <tr>\n",
              "      <th>324316</th>\n",
              "      <td>2</td>\n",
              "      <td>15.7039</td>\n",
              "    </tr>\n",
              "    <tr>\n",
              "      <th>324317</th>\n",
              "      <td>2</td>\n",
              "      <td>14.5897</td>\n",
              "    </tr>\n",
              "    <tr>\n",
              "      <th>324318</th>\n",
              "      <td>2</td>\n",
              "      <td>14.9518</td>\n",
              "    </tr>\n",
              "    <tr>\n",
              "      <th>324319</th>\n",
              "      <td>2</td>\n",
              "      <td>11.5035</td>\n",
              "    </tr>\n",
              "    <tr>\n",
              "      <th>...</th>\n",
              "      <td>...</td>\n",
              "      <td>...</td>\n",
              "    </tr>\n",
              "    <tr>\n",
              "      <th>353250</th>\n",
              "      <td>2</td>\n",
              "      <td>15.4315</td>\n",
              "    </tr>\n",
              "    <tr>\n",
              "      <th>353251</th>\n",
              "      <td>2</td>\n",
              "      <td>10.8199</td>\n",
              "    </tr>\n",
              "    <tr>\n",
              "      <th>353252</th>\n",
              "      <td>2</td>\n",
              "      <td>15.3463</td>\n",
              "    </tr>\n",
              "    <tr>\n",
              "      <th>353253</th>\n",
              "      <td>2</td>\n",
              "      <td>13.6614</td>\n",
              "    </tr>\n",
              "    <tr>\n",
              "      <th>353254</th>\n",
              "      <td>2</td>\n",
              "      <td>12.9143</td>\n",
              "    </tr>\n",
              "  </tbody>\n",
              "</table>\n",
              "<p>28940 rows × 2 columns</p>\n",
              "</div>"
            ],
            "text/plain": [
              "        Meter ID  Total pow\n",
              "324315         2    14.7972\n",
              "324316         2    15.7039\n",
              "324317         2    14.5897\n",
              "324318         2    14.9518\n",
              "324319         2    11.5035\n",
              "...          ...        ...\n",
              "353250         2    15.4315\n",
              "353251         2    10.8199\n",
              "353252         2    15.3463\n",
              "353253         2    13.6614\n",
              "353254         2    12.9143\n",
              "\n",
              "[28940 rows x 2 columns]"
            ]
          },
          "metadata": {
            "tags": []
          },
          "execution_count": 64
        }
      ]
    },
    {
      "cell_type": "markdown",
      "metadata": {
        "id": "qFnaMBUjezKw"
      },
      "source": [
        "**Elbow method for finding optimal number of clusters**"
      ]
    },
    {
      "cell_type": "code",
      "metadata": {
        "id": "VHXKfOHBmxDR"
      },
      "source": [
        "from sklearn.cluster import KMeans\n",
        "import matplotlib.pyplot as plt\n",
        "distortions = []\n",
        "K = range(1,10)\n",
        "for k in K:\n",
        "    kmeanModel = KMeans(n_clusters=k)\n",
        "    kmeanModel.fit(ssr_meterid_2)\n",
        "    distortions.append(kmeanModel.inertia_)"
      ],
      "execution_count": null,
      "outputs": []
    },
    {
      "cell_type": "code",
      "metadata": {
        "colab": {
          "base_uri": "https://localhost:8080/",
          "height": 502
        },
        "id": "jPtYtsT-m3dt",
        "outputId": "ae602004-cb94-4d39-ece4-c05982d31c8c"
      },
      "source": [
        "plt.figure(figsize=(16,8))\n",
        "plt.plot(K, distortions, 'bx-')\n",
        "plt.xlabel('k')\n",
        "plt.ylabel('Distortion')\n",
        "plt.title('The Elbow Method showing the optimal k')\n",
        "plt.show()"
      ],
      "execution_count": null,
      "outputs": [
        {
          "output_type": "display_data",
          "data": {
            "image/png": "[encoded data removed]",
            "text/plain": [
              "<Figure size 1152x576 with 1 Axes>"
            ]
          },
          "metadata": {
            "tags": [],
            "needs_background": "light"
          }
        }
      ]
    },
    {
      "cell_type": "markdown",
      "metadata": {
        "id": "EnEnEOAee97C"
      },
      "source": [
        "**As we can see graph is linear after n=5 so the optimal number of cluster will be n=5**"
      ]
    },
    {
      "cell_type": "code",
      "metadata": {
        "colab": {
          "base_uri": "https://localhost:8080/",
          "height": 283
        },
        "id": "5JpJ1Y0jnLti",
        "outputId": "2f3c94fb-89ab-48a2-fd20-9e22beff996d"
      },
      "source": [
        "from sklearn.cluster import KMeans\n",
        "import matplotlib.pyplot as plt\n",
        "k_res=KMeans(n_clusters=5).fit(ssr_meterid_2)\n",
        "clusters=k_res.cluster_centers_\n",
        "plt.scatter(clusters[:,0],clusters[:,1],s=5000,alpha=0.85)"
      ],
      "execution_count": null,
      "outputs": [
        {
          "output_type": "execute_result",
          "data": {
            "text/plain": [
              "<matplotlib.collections.PathCollection at 0x7f79b58b1c50>"
            ]
          },
          "metadata": {
            "tags": []
          },
          "execution_count": 71
        },
        {
          "output_type": "display_data",
          "data": {
            "image/png": "[encoded data removed]",
            "text/plain": [
              "<Figure size 432x288 with 1 Axes>"
            ]
          },
          "metadata": {
            "tags": [],
            "needs_background": "light"
          }
        }
      ]
    },
    {
      "cell_type": "markdown",
      "metadata": {
        "id": "5rcdRao-fPd9"
      },
      "source": [
        ""
      ]
    },
    {
      "cell_type": "code",
      "metadata": {
        "id": "9odDVetZnzkN"
      },
      "source": [
        ""
      ],
      "execution_count": null,
      "outputs": []
    }
  ]
}
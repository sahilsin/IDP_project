{
  "nbformat": 4,
  "nbformat_minor": 0,
  "metadata": {
    "colab": {
      "name": "IDP_project.ipynb",
      "provenance": [],
      "collapsed_sections": [],
      "toc_visible": true
    },
    "kernelspec": {
      "name": "python3",
      "display_name": "Python 3"
    },
    "language_info": {
      "name": "python"
    }
  },
  "cells": [
    {
      "cell_type": "markdown",
      "metadata": {
        "id": "pO2jxe2B3xDS"
      },
      "source": [
        "**Initially mounting the google drive**"
      ]
    },
    {
      "cell_type": "code",
      "metadata": {
        "colab": {
          "base_uri": "https://localhost:8080/"
        },
        "id": "GyiyXQJmScsI",
        "outputId": "c0703e2d-b0cf-4ed5-e3fc-63e06a6d78ae"
      },
      "source": [
        "from google.colab import drive\n",
        "drive.mount('/content/gdrive')"
      ],
      "execution_count": 1,
      "outputs": [
        {
          "output_type": "stream",
          "text": [
            "Mounted at /content/gdrive\n"
          ],
          "name": "stdout"
        }
      ]
    },
    {
      "cell_type": "markdown",
      "metadata": {
        "id": "EGdgo3wI32s1"
      },
      "source": [
        "**Using Pandas library to load the CSV file and many more useful functions**"
      ]
    },
    {
      "cell_type": "code",
      "metadata": {
        "id": "x7jPv8ayWrhm"
      },
      "source": [
        "import pandas as pd"
      ],
      "execution_count": 2,
      "outputs": []
    },
    {
      "cell_type": "code",
      "metadata": {
        "id": "qvO9H_-HAecG"
      },
      "source": [
        "path = '/content/gdrive/MyDrive/sensorreadings (25).csv'\n",
        "ssr = pd.read_csv(path)\n"
      ],
      "execution_count": 10,
      "outputs": []
    },
    {
      "cell_type": "markdown",
      "metadata": {
        "id": "Ph8S2nxC7PFP"
      },
      "source": [
        "**This is the data present in the CSV file**"
      ]
    },
    {
      "cell_type": "code",
      "metadata": {
        "colab": {
          "base_uri": "https://localhost:8080/",
          "height": 419
        },
        "id": "y9USe1eSBYlh",
        "outputId": "dac0d0aa-91ee-4a6e-8bdc-67ae83d643db"
      },
      "source": [
        "ssr"
      ],
      "execution_count": 4,
      "outputs": [
        {
          "output_type": "execute_result",
          "data": {
            "text/html": [
              "<div>\n",
              "<style scoped>\n",
              "    .dataframe tbody tr th:only-of-type {\n",
              "        vertical-align: middle;\n",
              "    }\n",
              "\n",
              "    .dataframe tbody tr th {\n",
              "        vertical-align: top;\n",
              "    }\n",
              "\n",
              "    .dataframe thead th {\n",
              "        text-align: right;\n",
              "    }\n",
              "</style>\n",
              "<table border=\"1\" class=\"dataframe\">\n",
              "  <thead>\n",
              "    <tr style=\"text-align: right;\">\n",
              "      <th></th>\n",
              "      <th>Time stamp</th>\n",
              "      <th>Meter ID</th>\n",
              "      <th>R phase</th>\n",
              "      <th>Y phase</th>\n",
              "      <th>B phase</th>\n",
              "      <th>Total pow</th>\n",
              "    </tr>\n",
              "  </thead>\n",
              "  <tbody>\n",
              "    <tr>\n",
              "      <th>0</th>\n",
              "      <td>15-03-2021 10:35</td>\n",
              "      <td>101</td>\n",
              "      <td>14.8639</td>\n",
              "      <td>16.6759</td>\n",
              "      <td>16.2646</td>\n",
              "      <td>47.8045</td>\n",
              "    </tr>\n",
              "    <tr>\n",
              "      <th>1</th>\n",
              "      <td>15-03-2021 10:36</td>\n",
              "      <td>101</td>\n",
              "      <td>14.8976</td>\n",
              "      <td>16.5786</td>\n",
              "      <td>16.3201</td>\n",
              "      <td>47.7964</td>\n",
              "    </tr>\n",
              "    <tr>\n",
              "      <th>2</th>\n",
              "      <td>15-03-2021 10:37</td>\n",
              "      <td>101</td>\n",
              "      <td>14.9082</td>\n",
              "      <td>16.5838</td>\n",
              "      <td>16.3254</td>\n",
              "      <td>47.8175</td>\n",
              "    </tr>\n",
              "    <tr>\n",
              "      <th>3</th>\n",
              "      <td>15-03-2021 10:38</td>\n",
              "      <td>101</td>\n",
              "      <td>14.9214</td>\n",
              "      <td>16.6692</td>\n",
              "      <td>16.2829</td>\n",
              "      <td>47.8737</td>\n",
              "    </tr>\n",
              "    <tr>\n",
              "      <th>4</th>\n",
              "      <td>15-03-2021 10:39</td>\n",
              "      <td>101</td>\n",
              "      <td>14.8908</td>\n",
              "      <td>16.7536</td>\n",
              "      <td>16.2214</td>\n",
              "      <td>47.8659</td>\n",
              "    </tr>\n",
              "    <tr>\n",
              "      <th>...</th>\n",
              "      <td>...</td>\n",
              "      <td>...</td>\n",
              "      <td>...</td>\n",
              "      <td>...</td>\n",
              "      <td>...</td>\n",
              "      <td>...</td>\n",
              "    </tr>\n",
              "    <tr>\n",
              "      <th>1048570</th>\n",
              "      <td>31-01-2021 16:50</td>\n",
              "      <td>3</td>\n",
              "      <td>3.4071</td>\n",
              "      <td>3.4252</td>\n",
              "      <td>6.8513</td>\n",
              "      <td>13.6837</td>\n",
              "    </tr>\n",
              "    <tr>\n",
              "      <th>1048571</th>\n",
              "      <td>31-01-2021 16:51</td>\n",
              "      <td>3</td>\n",
              "      <td>3.4205</td>\n",
              "      <td>3.4414</td>\n",
              "      <td>6.8253</td>\n",
              "      <td>13.6874</td>\n",
              "    </tr>\n",
              "    <tr>\n",
              "      <th>1048572</th>\n",
              "      <td>31-01-2021 16:52</td>\n",
              "      <td>3</td>\n",
              "      <td>3.3864</td>\n",
              "      <td>3.4255</td>\n",
              "      <td>6.8174</td>\n",
              "      <td>13.6294</td>\n",
              "    </tr>\n",
              "    <tr>\n",
              "      <th>1048573</th>\n",
              "      <td>31-01-2021 16:53</td>\n",
              "      <td>3</td>\n",
              "      <td>3.5006</td>\n",
              "      <td>3.4191</td>\n",
              "      <td>6.8469</td>\n",
              "      <td>13.7667</td>\n",
              "    </tr>\n",
              "    <tr>\n",
              "      <th>1048574</th>\n",
              "      <td>31-01-2021 16:54</td>\n",
              "      <td>3</td>\n",
              "      <td>3.4859</td>\n",
              "      <td>3.3904</td>\n",
              "      <td>6.8511</td>\n",
              "      <td>13.7275</td>\n",
              "    </tr>\n",
              "  </tbody>\n",
              "</table>\n",
              "<p>1048575 rows × 6 columns</p>\n",
              "</div>"
            ],
            "text/plain": [
              "               Time stamp  Meter ID  R phase  Y phase  B phase  Total pow\n",
              "0        15-03-2021 10:35       101  14.8639  16.6759  16.2646    47.8045\n",
              "1        15-03-2021 10:36       101  14.8976  16.5786  16.3201    47.7964\n",
              "2        15-03-2021 10:37       101  14.9082  16.5838  16.3254    47.8175\n",
              "3        15-03-2021 10:38       101  14.9214  16.6692  16.2829    47.8737\n",
              "4        15-03-2021 10:39       101  14.8908  16.7536  16.2214    47.8659\n",
              "...                   ...       ...      ...      ...      ...        ...\n",
              "1048570  31-01-2021 16:50         3   3.4071   3.4252   6.8513    13.6837\n",
              "1048571  31-01-2021 16:51         3   3.4205   3.4414   6.8253    13.6874\n",
              "1048572  31-01-2021 16:52         3   3.3864   3.4255   6.8174    13.6294\n",
              "1048573  31-01-2021 16:53         3   3.5006   3.4191   6.8469    13.7667\n",
              "1048574  31-01-2021 16:54         3   3.4859   3.3904   6.8511    13.7275\n",
              "\n",
              "[1048575 rows x 6 columns]"
            ]
          },
          "metadata": {
            "tags": []
          },
          "execution_count": 4
        }
      ]
    },
    {
      "cell_type": "markdown",
      "metadata": {
        "id": "tVvvODwR4I4X"
      },
      "source": [
        "**Filtering the data and considering only meter 101 data**\n"
      ]
    },
    {
      "cell_type": "code",
      "metadata": {
        "id": "NsZN_SsaBjOk"
      },
      "source": [
        "ssr_meterid_101=ssr[ssr['Meter ID'] == 101]"
      ],
      "execution_count": 5,
      "outputs": []
    },
    {
      "cell_type": "markdown",
      "metadata": {
        "id": "Qlnkze3A7cIZ"
      },
      "source": [
        "**Meter 101 data**"
      ]
    },
    {
      "cell_type": "code",
      "metadata": {
        "id": "LhBqIl1XEHH6",
        "colab": {
          "base_uri": "https://localhost:8080/",
          "height": 419
        },
        "outputId": "f7bfcbd0-e6b9-4c1a-ff80-482adc3ae3ad"
      },
      "source": [
        "ssr_meterid_101"
      ],
      "execution_count": 6,
      "outputs": [
        {
          "output_type": "execute_result",
          "data": {
            "text/html": [
              "<div>\n",
              "<style scoped>\n",
              "    .dataframe tbody tr th:only-of-type {\n",
              "        vertical-align: middle;\n",
              "    }\n",
              "\n",
              "    .dataframe tbody tr th {\n",
              "        vertical-align: top;\n",
              "    }\n",
              "\n",
              "    .dataframe thead th {\n",
              "        text-align: right;\n",
              "    }\n",
              "</style>\n",
              "<table border=\"1\" class=\"dataframe\">\n",
              "  <thead>\n",
              "    <tr style=\"text-align: right;\">\n",
              "      <th></th>\n",
              "      <th>Time stamp</th>\n",
              "      <th>Meter ID</th>\n",
              "      <th>R phase</th>\n",
              "      <th>Y phase</th>\n",
              "      <th>B phase</th>\n",
              "      <th>Total pow</th>\n",
              "    </tr>\n",
              "  </thead>\n",
              "  <tbody>\n",
              "    <tr>\n",
              "      <th>0</th>\n",
              "      <td>15-03-2021 10:35</td>\n",
              "      <td>101</td>\n",
              "      <td>14.8639</td>\n",
              "      <td>16.6759</td>\n",
              "      <td>16.2646</td>\n",
              "      <td>47.8045</td>\n",
              "    </tr>\n",
              "    <tr>\n",
              "      <th>1</th>\n",
              "      <td>15-03-2021 10:36</td>\n",
              "      <td>101</td>\n",
              "      <td>14.8976</td>\n",
              "      <td>16.5786</td>\n",
              "      <td>16.3201</td>\n",
              "      <td>47.7964</td>\n",
              "    </tr>\n",
              "    <tr>\n",
              "      <th>2</th>\n",
              "      <td>15-03-2021 10:37</td>\n",
              "      <td>101</td>\n",
              "      <td>14.9082</td>\n",
              "      <td>16.5838</td>\n",
              "      <td>16.3254</td>\n",
              "      <td>47.8175</td>\n",
              "    </tr>\n",
              "    <tr>\n",
              "      <th>3</th>\n",
              "      <td>15-03-2021 10:38</td>\n",
              "      <td>101</td>\n",
              "      <td>14.9214</td>\n",
              "      <td>16.6692</td>\n",
              "      <td>16.2829</td>\n",
              "      <td>47.8737</td>\n",
              "    </tr>\n",
              "    <tr>\n",
              "      <th>4</th>\n",
              "      <td>15-03-2021 10:39</td>\n",
              "      <td>101</td>\n",
              "      <td>14.8908</td>\n",
              "      <td>16.7536</td>\n",
              "      <td>16.2214</td>\n",
              "      <td>47.8659</td>\n",
              "    </tr>\n",
              "    <tr>\n",
              "      <th>...</th>\n",
              "      <td>...</td>\n",
              "      <td>...</td>\n",
              "      <td>...</td>\n",
              "      <td>...</td>\n",
              "      <td>...</td>\n",
              "      <td>...</td>\n",
              "    </tr>\n",
              "    <tr>\n",
              "      <th>123917</th>\n",
              "      <td>29-01-2021 14:01</td>\n",
              "      <td>101</td>\n",
              "      <td>13.3863</td>\n",
              "      <td>14.5399</td>\n",
              "      <td>14.6906</td>\n",
              "      <td>42.6169</td>\n",
              "    </tr>\n",
              "    <tr>\n",
              "      <th>123918</th>\n",
              "      <td>29-01-2021 14:03</td>\n",
              "      <td>101</td>\n",
              "      <td>13.2620</td>\n",
              "      <td>14.4711</td>\n",
              "      <td>14.7015</td>\n",
              "      <td>42.4347</td>\n",
              "    </tr>\n",
              "    <tr>\n",
              "      <th>123919</th>\n",
              "      <td>29-01-2021 14:04</td>\n",
              "      <td>101</td>\n",
              "      <td>13.2584</td>\n",
              "      <td>14.4984</td>\n",
              "      <td>14.6369</td>\n",
              "      <td>42.3938</td>\n",
              "    </tr>\n",
              "    <tr>\n",
              "      <th>123920</th>\n",
              "      <td>29-01-2021 14:05</td>\n",
              "      <td>101</td>\n",
              "      <td>13.2532</td>\n",
              "      <td>14.5372</td>\n",
              "      <td>14.6250</td>\n",
              "      <td>42.4155</td>\n",
              "    </tr>\n",
              "    <tr>\n",
              "      <th>123921</th>\n",
              "      <td>29-01-2021 14:06</td>\n",
              "      <td>101</td>\n",
              "      <td>13.2446</td>\n",
              "      <td>14.4525</td>\n",
              "      <td>14.7102</td>\n",
              "      <td>42.4074</td>\n",
              "    </tr>\n",
              "  </tbody>\n",
              "</table>\n",
              "<p>123922 rows × 6 columns</p>\n",
              "</div>"
            ],
            "text/plain": [
              "              Time stamp  Meter ID  R phase  Y phase  B phase  Total pow\n",
              "0       15-03-2021 10:35       101  14.8639  16.6759  16.2646    47.8045\n",
              "1       15-03-2021 10:36       101  14.8976  16.5786  16.3201    47.7964\n",
              "2       15-03-2021 10:37       101  14.9082  16.5838  16.3254    47.8175\n",
              "3       15-03-2021 10:38       101  14.9214  16.6692  16.2829    47.8737\n",
              "4       15-03-2021 10:39       101  14.8908  16.7536  16.2214    47.8659\n",
              "...                  ...       ...      ...      ...      ...        ...\n",
              "123917  29-01-2021 14:01       101  13.3863  14.5399  14.6906    42.6169\n",
              "123918  29-01-2021 14:03       101  13.2620  14.4711  14.7015    42.4347\n",
              "123919  29-01-2021 14:04       101  13.2584  14.4984  14.6369    42.3938\n",
              "123920  29-01-2021 14:05       101  13.2532  14.5372  14.6250    42.4155\n",
              "123921  29-01-2021 14:06       101  13.2446  14.4525  14.7102    42.4074\n",
              "\n",
              "[123922 rows x 6 columns]"
            ]
          },
          "metadata": {
            "tags": []
          },
          "execution_count": 6
        }
      ]
    },
    {
      "cell_type": "markdown",
      "metadata": {
        "id": "K0jnnIg04Rsr"
      },
      "source": [
        "**Deleting the time stamp column as it is behaving as a string which cannot be passed through the KMeans function**"
      ]
    },
    {
      "cell_type": "code",
      "metadata": {
        "colab": {
          "base_uri": "https://localhost:8080/",
          "height": 419
        },
        "id": "qMR9JkIjg5oy",
        "outputId": "e843fbc3-b992-4a60-dfa0-e54d92bca84d"
      },
      "source": [
        "del ssr_meterid_101[ssr_meterid_101.columns[0]]\n",
        "ssr_meterid_101\n"
      ],
      "execution_count": 7,
      "outputs": [
        {
          "output_type": "execute_result",
          "data": {
            "text/html": [
              "<div>\n",
              "<style scoped>\n",
              "    .dataframe tbody tr th:only-of-type {\n",
              "        vertical-align: middle;\n",
              "    }\n",
              "\n",
              "    .dataframe tbody tr th {\n",
              "        vertical-align: top;\n",
              "    }\n",
              "\n",
              "    .dataframe thead th {\n",
              "        text-align: right;\n",
              "    }\n",
              "</style>\n",
              "<table border=\"1\" class=\"dataframe\">\n",
              "  <thead>\n",
              "    <tr style=\"text-align: right;\">\n",
              "      <th></th>\n",
              "      <th>Meter ID</th>\n",
              "      <th>R phase</th>\n",
              "      <th>Y phase</th>\n",
              "      <th>B phase</th>\n",
              "      <th>Total pow</th>\n",
              "    </tr>\n",
              "  </thead>\n",
              "  <tbody>\n",
              "    <tr>\n",
              "      <th>0</th>\n",
              "      <td>101</td>\n",
              "      <td>14.8639</td>\n",
              "      <td>16.6759</td>\n",
              "      <td>16.2646</td>\n",
              "      <td>47.8045</td>\n",
              "    </tr>\n",
              "    <tr>\n",
              "      <th>1</th>\n",
              "      <td>101</td>\n",
              "      <td>14.8976</td>\n",
              "      <td>16.5786</td>\n",
              "      <td>16.3201</td>\n",
              "      <td>47.7964</td>\n",
              "    </tr>\n",
              "    <tr>\n",
              "      <th>2</th>\n",
              "      <td>101</td>\n",
              "      <td>14.9082</td>\n",
              "      <td>16.5838</td>\n",
              "      <td>16.3254</td>\n",
              "      <td>47.8175</td>\n",
              "    </tr>\n",
              "    <tr>\n",
              "      <th>3</th>\n",
              "      <td>101</td>\n",
              "      <td>14.9214</td>\n",
              "      <td>16.6692</td>\n",
              "      <td>16.2829</td>\n",
              "      <td>47.8737</td>\n",
              "    </tr>\n",
              "    <tr>\n",
              "      <th>4</th>\n",
              "      <td>101</td>\n",
              "      <td>14.8908</td>\n",
              "      <td>16.7536</td>\n",
              "      <td>16.2214</td>\n",
              "      <td>47.8659</td>\n",
              "    </tr>\n",
              "    <tr>\n",
              "      <th>...</th>\n",
              "      <td>...</td>\n",
              "      <td>...</td>\n",
              "      <td>...</td>\n",
              "      <td>...</td>\n",
              "      <td>...</td>\n",
              "    </tr>\n",
              "    <tr>\n",
              "      <th>123917</th>\n",
              "      <td>101</td>\n",
              "      <td>13.3863</td>\n",
              "      <td>14.5399</td>\n",
              "      <td>14.6906</td>\n",
              "      <td>42.6169</td>\n",
              "    </tr>\n",
              "    <tr>\n",
              "      <th>123918</th>\n",
              "      <td>101</td>\n",
              "      <td>13.2620</td>\n",
              "      <td>14.4711</td>\n",
              "      <td>14.7015</td>\n",
              "      <td>42.4347</td>\n",
              "    </tr>\n",
              "    <tr>\n",
              "      <th>123919</th>\n",
              "      <td>101</td>\n",
              "      <td>13.2584</td>\n",
              "      <td>14.4984</td>\n",
              "      <td>14.6369</td>\n",
              "      <td>42.3938</td>\n",
              "    </tr>\n",
              "    <tr>\n",
              "      <th>123920</th>\n",
              "      <td>101</td>\n",
              "      <td>13.2532</td>\n",
              "      <td>14.5372</td>\n",
              "      <td>14.6250</td>\n",
              "      <td>42.4155</td>\n",
              "    </tr>\n",
              "    <tr>\n",
              "      <th>123921</th>\n",
              "      <td>101</td>\n",
              "      <td>13.2446</td>\n",
              "      <td>14.4525</td>\n",
              "      <td>14.7102</td>\n",
              "      <td>42.4074</td>\n",
              "    </tr>\n",
              "  </tbody>\n",
              "</table>\n",
              "<p>123922 rows × 5 columns</p>\n",
              "</div>"
            ],
            "text/plain": [
              "        Meter ID  R phase  Y phase  B phase  Total pow\n",
              "0            101  14.8639  16.6759  16.2646    47.8045\n",
              "1            101  14.8976  16.5786  16.3201    47.7964\n",
              "2            101  14.9082  16.5838  16.3254    47.8175\n",
              "3            101  14.9214  16.6692  16.2829    47.8737\n",
              "4            101  14.8908  16.7536  16.2214    47.8659\n",
              "...          ...      ...      ...      ...        ...\n",
              "123917       101  13.3863  14.5399  14.6906    42.6169\n",
              "123918       101  13.2620  14.4711  14.7015    42.4347\n",
              "123919       101  13.2584  14.4984  14.6369    42.3938\n",
              "123920       101  13.2532  14.5372  14.6250    42.4155\n",
              "123921       101  13.2446  14.4525  14.7102    42.4074\n",
              "\n",
              "[123922 rows x 5 columns]"
            ]
          },
          "metadata": {
            "tags": []
          },
          "execution_count": 7
        }
      ]
    },
    {
      "cell_type": "markdown",
      "metadata": {
        "id": "vXD5FEWr7kLn"
      },
      "source": [
        "**Using the ELBOW method to find the number of optimal clusters so that we can use that in KMeans algorithm**"
      ]
    },
    {
      "cell_type": "code",
      "metadata": {
        "id": "tX3bDG1XxAfJ"
      },
      "source": [
        "from sklearn.cluster import KMeans\n",
        "import matplotlib.pyplot as plt\n",
        "distortions = []\n",
        "K = range(1,10)\n",
        "for k in K:\n",
        "    kmeanModel = KMeans(n_clusters=k)\n",
        "    kmeanModel.fit(ssr_meterid_101)\n",
        "    distortions.append(kmeanModel.inertia_)"
      ],
      "execution_count": 8,
      "outputs": []
    },
    {
      "cell_type": "markdown",
      "metadata": {
        "id": "V1W0oya070FU"
      },
      "source": [
        "**From the plot we can see that optimal cluster for our ssr_meterid_101 data is 4 as the curve is straight after n=4**"
      ]
    },
    {
      "cell_type": "code",
      "metadata": {
        "id": "pwpRwmryq_U7",
        "colab": {
          "base_uri": "https://localhost:8080/",
          "height": 513
        },
        "outputId": "efc7cf85-76d9-47f1-9c43-109a42450155"
      },
      "source": [
        "plt.figure(figsize=(16,8))\n",
        "plt.plot(K, distortions, 'bx-')\n",
        "plt.xlabel('k')\n",
        "plt.ylabel('Distortion')\n",
        "plt.title('The Elbow Method showing the optimal k')\n",
        "plt.show()"
      ],
      "execution_count": 9,
      "outputs": [
        {
          "output_type": "display_data",
          "data": {
            "image/png": "[encoded data removed]",
            "text/plain": [
              "<Figure size 1152x576 with 1 Axes>"
            ]
          },
          "metadata": {
            "tags": [],
            "needs_background": "light"
          }
        }
      ]
    },
    {
      "cell_type": "markdown",
      "metadata": {
        "id": "Ob_ZANA64c5u"
      },
      "source": [
        "**Implementing the K- means Algorithm for n=4 clusters**\n"
      ]
    },
    {
      "cell_type": "code",
      "metadata": {
        "id": "yU455_TLQI3-",
        "colab": {
          "base_uri": "https://localhost:8080/",
          "height": 282
        },
        "outputId": "9fca4ef5-75ef-471b-ab7e-72f376ad2cb8"
      },
      "source": [
        "from sklearn.cluster import KMeans\n",
        "import matplotlib.pyplot as plt\n",
        "k_res=KMeans(n_clusters=4).fit(ssr_meterid_101)\n",
        "clusters=k_res.cluster_centers_\n",
        "plt.scatter(clusters[:,0],clusters[:,1],s=5000,alpha=0.85)"
      ],
      "execution_count": null,
      "outputs": [
        {
          "output_type": "execute_result",
          "data": {
            "text/plain": [
              "<matplotlib.collections.PathCollection at 0x7f7bf1d41bd0>"
            ]
          },
          "metadata": {
            "tags": []
          },
          "execution_count": 10
        },
        {
          "output_type": "display_data",
          "data": {
            "image/png": "[encoded data removed]",
            "text/plain": [
              "<Figure size 432x288 with 1 Axes>"
            ]
          },
          "metadata": {
            "tags": [],
            "needs_background": "light"
          }
        }
      ]
    },
    {
      "cell_type": "code",
      "metadata": {
        "id": "w5wG7jrJghu5"
      },
      "source": [
        ""
      ],
      "execution_count": null,
      "outputs": []
    },
    {
      "cell_type": "markdown",
      "metadata": {
        "id": "d-KgYe6N3vsP"
      },
      "source": [
        ""
      ]
    }
  ]
}